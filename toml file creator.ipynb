{
 "cells": [
  {
   "cell_type": "code",
   "execution_count": null,
   "id": "e7eb5b52-aa60-4903-a5f7-a015744aa4cc",
   "metadata": {},
   "outputs": [],
   "source": [
    "## to create .toml file for streamlit default themes"
   ]
  },
  {
   "cell_type": "code",
   "execution_count": 3,
   "id": "47054fbc-5231-4bb8-9eea-b5a37ac3cf3c",
   "metadata": {},
   "outputs": [
    {
     "name": "stdout",
     "output_type": "stream",
     "text": [
      "Created config.toml at: .streamlit\\config.toml\n"
     ]
    }
   ],
   "source": [
    "import os\n",
    "\n",
    "# Define the path to the existing .streamlit folder\n",
    "streamlit_dir = \".streamlit\"  # assuming it's in the current working directory\n",
    "\n",
    "# Define the path for the config.toml file\n",
    "config_file_path = os.path.join(streamlit_dir, 'config.toml')\n",
    "\n",
    "# Create the config.toml file with default settings if it doesn't exist\n",
    "if not os.path.exists(config_file_path):\n",
    "    with open(config_file_path, 'w') as config_file:\n",
    "        config_file.write(\"\"\"\n",
    "[theme]\n",
    "base=\"dark\"\n",
    "backgroundColor=\"#000000\"\n",
    "secondaryBackgroundColor=\"#1d1d20\"\n",
    "\n",
    "\"\"\")\n",
    "    print(f\"Created config.toml at: {config_file_path}\")\n",
    "else:\n",
    "    print(f\"config.toml already exists at: {config_file_path}\")\n"
   ]
  },
  {
   "cell_type": "code",
   "execution_count": null,
   "id": "738f212e-522c-4254-a25e-3cd4e6785e1e",
   "metadata": {},
   "outputs": [],
   "source": []
  }
 ],
 "metadata": {
  "kernelspec": {
   "display_name": "Python 3 (ipykernel)",
   "language": "python",
   "name": "python3"
  },
  "language_info": {
   "codemirror_mode": {
    "name": "ipython",
    "version": 3
   },
   "file_extension": ".py",
   "mimetype": "text/x-python",
   "name": "python",
   "nbconvert_exporter": "python",
   "pygments_lexer": "ipython3",
   "version": "3.11.5"
  }
 },
 "nbformat": 4,
 "nbformat_minor": 5
}
