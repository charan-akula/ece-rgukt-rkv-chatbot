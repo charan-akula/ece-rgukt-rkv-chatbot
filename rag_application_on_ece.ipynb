{
 "cells": [
  {
   "cell_type": "markdown",
   "id": "c14ae03c-964e-4e92-a0a0-092607065778",
   "metadata": {},
   "source": [
    "## extracting the links of a data by webscrapping"
   ]
  },
  {
   "cell_type": "code",
   "execution_count": 1,
   "id": "841dec5e-a712-464a-a568-e8e1f7c050e7",
   "metadata": {},
   "outputs": [],
   "source": [
    "import requests\n",
    "from bs4 import BeautifulSoup"
   ]
  },
  {
   "cell_type": "code",
   "execution_count": 2,
   "id": "80de3f21-1fae-4167-ae0e-27b0d88a8ab8",
   "metadata": {},
   "outputs": [],
   "source": [
    "\n",
    "# Define the URL to scrape\n",
    "url = \"https://www.rguktrkv.ac.in/Departments.php?view=EC\"\n",
    "\n",
    "# Set a user-agent to mimic a request from a browser\n",
    "headers = {\n",
    "    \"User-Agent\": \"Mozilla/5.0 (Windows NT 10.0; Win64; x64) AppleWebKit/537.36 (KHTML, like Gecko) Chrome/91.0.4472.124 Safari/537.36\"\n",
    "}\n",
    "\n",
    "# Send a GET request to the website with headers\n",
    "response = requests.get(url, headers=headers)\n",
    "links_list = []\n",
    "\n",
    "# Check if the request was successful\n",
    "if response.status_code == 200:\n",
    "    # Parse the HTML content using BeautifulSoup\n",
    "    soup = BeautifulSoup(response.text, 'html.parser')\n",
    "\n",
    "    # Find the specific div containing the links\n",
    "    div = soup.find('div', class_='row no-margin no-padding')\n",
    "    if div:\n",
    "        # Find the ul with class 'MenuBarVertical' within the div\n",
    "        ul = div.find('ul', class_='MenuBarVertical')\n",
    "        if ul:\n",
    "            # Find all anchor tags within this ul and extract the href attribute\n",
    "            links = ul.find_all('a', href=True)\n",
    "            for link in links:\n",
    "                links_list.append(link['href'])\n",
    "        else:\n",
    "            print(\"The 'ul' with class 'MenuBarVertical' was not found.\")\n",
    "    else:\n",
    "        print(\"The 'div' with class 'row no-margin no-padding' was not found.\")\n",
    "else:\n",
    "    print(f\"Failed to retrieve the webpage. Status code: {response.status_code}\")\n",
    "links_list.append(url)\n",
    "\n",
    "# Output the list of links"
   ]
  },
  {
   "cell_type": "code",
   "execution_count": 3,
   "id": "2dce31d7-f59a-4ac2-94a2-ea5400c5dbd4",
   "metadata": {},
   "outputs": [
    {
     "data": {
      "text/plain": [
       "['Departments.php?view=EC&staff=TS',\n",
       " 'Departments.php?view=EC&staff=NTS',\n",
       " 'Syllabus.php?view=ECE',\n",
       " '#',\n",
       " '#lab',\n",
       " '#contact',\n",
       " 'https://www.rguktrkv.ac.in/Departments.php?view=EC']"
      ]
     },
     "execution_count": 3,
     "metadata": {},
     "output_type": "execute_result"
    }
   ],
   "source": [
    "links_list"
   ]
  },
  {
   "cell_type": "code",
   "execution_count": 4,
   "id": "2707b987-34d6-4286-a5a7-7bc3d6888468",
   "metadata": {},
   "outputs": [],
   "source": [
    "prefix=\"https://www.rguktrkv.ac.in/\""
   ]
  },
  {
   "cell_type": "code",
   "execution_count": 5,
   "id": "ffff9d83-3ac7-43f4-9aa0-23b894c340cb",
   "metadata": {},
   "outputs": [],
   "source": [
    "for i in range(len(links_list)):\n",
    "    if(\"https\" not in links_list[i]):\n",
    "        links_list[i]=prefix+links_list[i]\n",
    "    "
   ]
  },
  {
   "cell_type": "code",
   "execution_count": 6,
   "id": "1febe3e2-5355-4ac9-8952-1dfda0273dd1",
   "metadata": {},
   "outputs": [
    {
     "data": {
      "text/plain": [
       "['https://www.rguktrkv.ac.in/Departments.php?view=EC&staff=TS',\n",
       " 'https://www.rguktrkv.ac.in/Departments.php?view=EC&staff=NTS',\n",
       " 'https://www.rguktrkv.ac.in/Syllabus.php?view=ECE',\n",
       " 'https://www.rguktrkv.ac.in/#',\n",
       " 'https://www.rguktrkv.ac.in/#lab',\n",
       " 'https://www.rguktrkv.ac.in/#contact',\n",
       " 'https://www.rguktrkv.ac.in/Departments.php?view=EC']"
      ]
     },
     "execution_count": 6,
     "metadata": {},
     "output_type": "execute_result"
    }
   ],
   "source": [
    " links_list"
   ]
  },
  {
   "cell_type": "code",
   "execution_count": 7,
   "id": "caf2e4a8-52dd-4b33-8e42-49a2d826ba09",
   "metadata": {},
   "outputs": [],
   "source": [
    "## click on the links and selelct only which you want "
   ]
  },
  {
   "cell_type": "code",
   "execution_count": 8,
   "id": "cd7c8020-98a3-4613-94a7-9686078f8bb6",
   "metadata": {},
   "outputs": [],
   "source": [
    "del links_list[4:7]"
   ]
  },
  {
   "cell_type": "code",
   "execution_count": 9,
   "id": "03c3b2a2-aac1-4895-aa6d-451a3b414a93",
   "metadata": {},
   "outputs": [
    {
     "data": {
      "text/plain": [
       "['https://www.rguktrkv.ac.in/Departments.php?view=EC&staff=TS',\n",
       " 'https://www.rguktrkv.ac.in/Departments.php?view=EC&staff=NTS',\n",
       " 'https://www.rguktrkv.ac.in/Syllabus.php?view=ECE',\n",
       " 'https://www.rguktrkv.ac.in/#']"
      ]
     },
     "execution_count": 9,
     "metadata": {},
     "output_type": "execute_result"
    }
   ],
   "source": [
    "links_list"
   ]
  },
  {
   "cell_type": "markdown",
   "id": "0bcbf546-1702-400e-821c-bb53e98ee783",
   "metadata": {},
   "source": [
    "## loading the data from links , by using documentloaders(webbaseloader)"
   ]
  },
  {
   "cell_type": "code",
   "execution_count": 10,
   "id": "f54faf07-3261-4d11-92bf-e9c6fb04894c",
   "metadata": {},
   "outputs": [
    {
     "name": "stderr",
     "output_type": "stream",
     "text": [
      "USER_AGENT environment variable not set, consider setting it to identify your requests.\n"
     ]
    }
   ],
   "source": [
    "from langchain_community.document_loaders import WebBaseLoader\n",
    "file_paths = links_list\n",
    "loader = WebBaseLoader(file_paths)"
   ]
  },
  {
   "cell_type": "code",
   "execution_count": 11,
   "id": "242a85ee-07dc-4844-8e3d-42daea27e33e",
   "metadata": {},
   "outputs": [],
   "source": [
    "webdata = loader.load()\n",
    "## When you use the load() method, the document is loaded fully into memory all at once. This means that the entire content of the document is read and processed immediately, and you get the full result in one go"
   ]
  },
  {
   "cell_type": "code",
   "execution_count": 12,
   "id": "616ce617-248d-4362-abce-ba9578147381",
   "metadata": {},
   "outputs": [
    {
     "name": "stdout",
     "output_type": "stream",
     "text": [
      "[Document(metadata={'source': 'https://www.rguktrkv.ac.in/Departments.php?view=EC&staff=TS', 'title': 'Electronics and Communication Engg - RK Valley :: RGUKT-AP', 'description': '', 'language': ''}, page_content=\"\\n\\n\\n\\n\\n\\n\\n\\n\\n\\n\\nElectronics and Communication Engg - RK Valley :: RGUKT-AP\\n\\n\\n\\n\\n\\n\\n\\n\\n\\n\\n\\n\\n\\n\\n\\n\\n\\n\\n\\n\\nRajiv Gandhi University of Knowledge Technologies-Andhra Pradesh\\nRK Valley Institute\\n\\n(Constituted under the A.P Govt. Act 18 of 2008 and recognized as per Section 2(f), 12(B) of UGC Act, 1956) \\nAccredited by 'NAAC' with 'B+' Grade\\n\\n\\n\\n\\n\\n\\n\\n\\n\\n\\n\\nToggle navigation\\n\\n\\n\\n\\n\\n\\n\\n\\n\\n\\n\\nInstitute\\r\\n\\t\\t\\t\\t\\t\\t\\t  \\n\\n\\nAbout RGUKT\\nVision and Mission\\nBest Practices\\nOrganization Chart\\nStrategy Document\\nGoverning Council\\nAnnual Report\\nConvocation\\nOmbudsperson\\nNAAC Certificate\\nNIRF\\nUGC Status (12B)\\nUGC Status (2F)\\nUGC-NAD/ABC Cell\\nAICTE Mandatory Disclosure\\n\\n\\n\\n\\n\\nAcademics\\r\\n\\t\\t\\t\\t\\t\\t\\t  \\n\\n\\nAcademic Audit Reports\\n\\nMinutes of Academic Council Meetings\\nFaculty Ethics\\nAcademic Programmes\\nAcademic Regulations\\nAcademic Calendar\\nCurricula\\nDepartments\\nTime Table\\nExaminations\\n\\n\\n\\nAdministration\\r\\n\\t\\t\\t\\t\\t\\t\\t  \\n\\n\\nChancellor\\nVice Chancellor\\nDirector\\nAdministrative Officer\\nFinance Officer\\nEstablishment Section\\nDean of Academics\\nDean of Students Welfare\\nController of Examinations\\nAdministration\\n\\nSports Board\\nCommunication Directory\\n\\n\\n\\nFaculty\\r\\n\\t\\t\\t\\t\\t\\t\\t  \\n\\n\\nBio-Sciences\\nChemical Engineering\\nChemistry\\nCivil Engineering\\nComputer Science and Engineering\\nElectrical Engineering\\nElectronics and Communications Engineering\\nInformation Technology\\nMathematics\\nMechanical Engineering\\nMetallurgical & Materials Engineering\\nOther Departments\\n\\n\\n\\nAdmission\\r\\n\\t\\t\\t\\t\\t\\t\\t  \\n\\n\\nUG Admissions\\nPG Admissions\\nPh.D Admissions\\n\\n\\n\\nStudents\\r\\n\\t\\t\\t\\t\\t\\t\\t  \\n\\n\\nEducation at RGUKT\\nCareer Development Cell\\nIncubation Cell\\nInternational Desk\\nAnti Ragging\\nWomen's Cell\\nStudents' Welfare Office\\nAlumni Portal\\n\\n\\n\\nResearch\\r\\n\\t\\t\\t\\t\\t\\t\\t  \\n\\n\\nVision\\nResearch Head\\nEthics for Research\\nThrust Areas\\nResearch Guidelines\\nCollaboration MoU's\\nResearch and Advisory Committee\\n\\nDr.YSR Memorial Lecture Series\\n\\n1st Memorial Lecture\\n2nd Memorial Lecture\\n3rd Memorial Lecture\\n\\n\\n\\n\\nIQAC\\nPlacement Cell\\nLibrary\\nCareers\\nTenders\\nContact Us\\n\\n\\n\\n\\n\\n\\n\\n\\n\\nHome\\nDepartments\\nElectronics and Communication Engg\\nFaculty\\n\\n\\n\\n\\n\\xa0\\xa0Electronics and Communication Engg\\nFaculty\\nStaff\\nFacilities\\nBoard of Studies\\nContacts\\n\\n\\nBack to Previous Page\\n\\n\\n\\n\\nDepartment of Electronics and Communication Engg\\n\\n\\r\\n\\t\\t\\tFaculty Members\\t\\t\\n\\n\\n\\n\\n\\n\\n\\nMr. Y Arun Kumar Reddy\\nAssistant Professor\\nResponsibilities : Head of the Department\\t\\r\\n\\t\\t\\t\\t\\t\\t\\t\\t\\t\\tEducation\\xa0\\xa0\\xa0\\xa0\\xa0\\xa0\\xa0\\xa0\\xa0\\xa0: M.Tech (IIT Kharagpur) \\r\\n\\t\\t\\t\\t\\tEmail\\xa0\\xa0\\xa0\\xa0\\xa0\\xa0\\xa0\\xa0\\xa0\\xa0\\xa0\\xa0\\xa0\\xa0\\xa0\\xa0: hodece@rguktrkv.ac.in, yarunkumarreddy@rguktrkv.ac.in \\n\\nView profile ...\\n\\n\\n\\n\\n\\n\\n\\n\\nMr. B. V. Sudhakar Reddy\\nAssistant Professor\\t\\r\\n\\t\\t\\t\\t\\t\\t\\t\\t\\t\\tEducation\\xa0\\xa0\\xa0\\xa0\\xa0\\xa0\\xa0\\xa0\\xa0\\xa0: M.Tech (IIT Kharagpur) \\r\\n\\t\\t\\t\\t\\tEmail\\xa0\\xa0\\xa0\\xa0\\xa0\\xa0\\xa0\\xa0\\xa0\\xa0\\xa0\\xa0\\xa0\\xa0\\xa0\\xa0: sudhakar@rguktrkv.ac.in \\n\\nView profile ...\\n\\n\\n\\n\\n\\n\\n\\n\\nDr. SK Mahammad Rafi\\nAssistant Professor\\nResponsibilities : Coordinator for Alumni\\t\\r\\n\\t\\t\\t\\t\\t\\t\\t\\t\\t\\tEducation\\xa0\\xa0\\xa0\\xa0\\xa0\\xa0\\xa0\\xa0\\xa0\\xa0: M.Tech (JNTU Hyderabad), Ph.D (IIT Hyderabad) \\r\\n\\t\\t\\t\\t\\tEmail\\xa0\\xa0\\xa0\\xa0\\xa0\\xa0\\xa0\\xa0\\xa0\\xa0\\xa0\\xa0\\xa0\\xa0\\xa0\\xa0: rafi@rguktrkv.ac.in \\n\\nView profile ...\\n\\n\\n\\n\\n\\n\\n\\n\\nMs. G. Lakshmi Shireesha\\nAssistant Professor\\t\\r\\n\\t\\t\\t\\t\\t\\t\\t\\t\\t\\tEducation\\xa0\\xa0\\xa0\\xa0\\xa0\\xa0\\xa0\\xa0\\xa0\\xa0: M.Tech (NIT-Trichy) \\r\\n\\t\\t\\t\\t\\tEmail\\xa0\\xa0\\xa0\\xa0\\xa0\\xa0\\xa0\\xa0\\xa0\\xa0\\xa0\\xa0\\xa0\\xa0\\xa0\\xa0: glakshmishireesha@rguktrkv.ac.in \\n\\nView profile ...\\n\\n\\n\\n\\n\\n\\n\\n\\nMr. K. Abdul Munaf\\nAssistant Professor\\t\\r\\n\\t\\t\\t\\t\\t\\t\\t\\t\\t\\tEducation\\xa0\\xa0\\xa0\\xa0\\xa0\\xa0\\xa0\\xa0\\xa0\\xa0: M.Tech \\r\\n\\t\\t\\t\\t\\tEmail\\xa0\\xa0\\xa0\\xa0\\xa0\\xa0\\xa0\\xa0\\xa0\\xa0\\xa0\\xa0\\xa0\\xa0\\xa0\\xa0: kabdulmunaf@rguktrkv.ac.in \\n\\nView profile ...\\n\\n\\n\\n\\n\\n\\n\\n\\nMr. N Mohan Raju\\nAssistant Professor\\t\\r\\n\\t\\t\\t\\t\\t\\t\\t\\t\\t\\tEducation\\xa0\\xa0\\xa0\\xa0\\xa0\\xa0\\xa0\\xa0\\xa0\\xa0: M.Tech \\r\\n\\t\\t\\t\\t\\tEmail\\xa0\\xa0\\xa0\\xa0\\xa0\\xa0\\xa0\\xa0\\xa0\\xa0\\xa0\\xa0\\xa0\\xa0\\xa0\\xa0: nmohanraju@rguktrkv.ac.in \\n\\nView profile ...\\n\\n\\n\\n\\n\\n\\n\\n\\nMrs. M. Anitha\\nAssistant Professor\\t\\r\\n\\t\\t\\t\\t\\t\\t\\t\\t\\t\\tEducation\\xa0\\xa0\\xa0\\xa0\\xa0\\xa0\\xa0\\xa0\\xa0\\xa0: M.Tech \\r\\n\\t\\t\\t\\t\\tEmail\\xa0\\xa0\\xa0\\xa0\\xa0\\xa0\\xa0\\xa0\\xa0\\xa0\\xa0\\xa0\\xa0\\xa0\\xa0\\xa0: manitha@rguktrkv.ac.in \\n\\nView profile ...\\n\\n\\n\\n\\n\\n\\n\\n\\nMr. P Janardhan Reddy\\nAssistant Professor\\t\\r\\n\\t\\t\\t\\t\\t\\t\\t\\t\\t\\tEducation\\xa0\\xa0\\xa0\\xa0\\xa0\\xa0\\xa0\\xa0\\xa0\\xa0: M.Tech \\r\\n\\t\\t\\t\\t\\tEmail\\xa0\\xa0\\xa0\\xa0\\xa0\\xa0\\xa0\\xa0\\xa0\\xa0\\xa0\\xa0\\xa0\\xa0\\xa0\\xa0: janardhanreddy@rguktrkv.ac.in \\n\\nView profile ...\\n\\n\\n\\n\\n\\n\\n\\n\\nMr. P. Siva Krishna\\nAssistant Professor\\t\\r\\n\\t\\t\\t\\t\\t\\t\\t\\t\\t\\tEducation\\xa0\\xa0\\xa0\\xa0\\xa0\\xa0\\xa0\\xa0\\xa0\\xa0: M.Tech \\r\\n\\t\\t\\t\\t\\tEmail\\xa0\\xa0\\xa0\\xa0\\xa0\\xa0\\xa0\\xa0\\xa0\\xa0\\xa0\\xa0\\xa0\\xa0\\xa0\\xa0: psivakrishna@rguktrkv.ac.in\\r \\n\\nView profile ...\\n\\n\\n\\n\\n\\n\\n\\n\\nMrs. V Lakshmi Prasanna\\nAssistant Professor\\t\\r\\n\\t\\t\\t\\t\\t\\t\\t\\t\\t\\tEducation\\xa0\\xa0\\xa0\\xa0\\xa0\\xa0\\xa0\\xa0\\xa0\\xa0: M.Tech \\r\\n\\t\\t\\t\\t\\tEmail\\xa0\\xa0\\xa0\\xa0\\xa0\\xa0\\xa0\\xa0\\xa0\\xa0\\xa0\\xa0\\xa0\\xa0\\xa0\\xa0:  \\n\\nView profile ...\\n\\n\\n\\n\\n\\n\\n\\n\\nMr. T Naresh\\nAssistant Professor\\t\\r\\n\\t\\t\\t\\t\\t\\t\\t\\t\\t\\tEducation\\xa0\\xa0\\xa0\\xa0\\xa0\\xa0\\xa0\\xa0\\xa0\\xa0: M.Tech \\r\\n\\t\\t\\t\\t\\tEmail\\xa0\\xa0\\xa0\\xa0\\xa0\\xa0\\xa0\\xa0\\xa0\\xa0\\xa0\\xa0\\xa0\\xa0\\xa0\\xa0: talarinaresh777@rguktrkv.ac.in \\n\\nView profile ...\\n\\n\\n\\n\\n\\n\\n\\n\\nMr. B Madhan Mohan\\nAssistant Professor\\t\\r\\n\\t\\t\\t\\t\\t\\t\\t\\t\\t\\tEducation\\xa0\\xa0\\xa0\\xa0\\xa0\\xa0\\xa0\\xa0\\xa0\\xa0: M.Tech \\r\\n\\t\\t\\t\\t\\tEmail\\xa0\\xa0\\xa0\\xa0\\xa0\\xa0\\xa0\\xa0\\xa0\\xa0\\xa0\\xa0\\xa0\\xa0\\xa0\\xa0: madhan.betharaju@rguktrkv.ac.in \\n\\nView profile ...\\n\\n\\n\\n\\n\\n\\n\\n\\nMr. B Mohan Reddy\\nAssistant Professor\\t\\r\\n\\t\\t\\t\\t\\t\\t\\t\\t\\t\\tEducation\\xa0\\xa0\\xa0\\xa0\\xa0\\xa0\\xa0\\xa0\\xa0\\xa0: M.Tech \\r\\n\\t\\t\\t\\t\\tEmail\\xa0\\xa0\\xa0\\xa0\\xa0\\xa0\\xa0\\xa0\\xa0\\xa0\\xa0\\xa0\\xa0\\xa0\\xa0\\xa0: bmohan4031@rguktrkv.ac.in \\n\\nView profile ...\\n\\n\\n\\n\\n\\n\\n\\n\\nMr. R. Pavan kumar\\nAssistant Professor\\t\\r\\n\\t\\t\\t\\t\\t\\t\\t\\t\\t\\tEducation\\xa0\\xa0\\xa0\\xa0\\xa0\\xa0\\xa0\\xa0\\xa0\\xa0: M.Tech \\r\\n\\t\\t\\t\\t\\tEmail\\xa0\\xa0\\xa0\\xa0\\xa0\\xa0\\xa0\\xa0\\xa0\\xa0\\xa0\\xa0\\xa0\\xa0\\xa0\\xa0: rpavankumar@rguktrkv.ac.in \\n\\nView profile ...\\n\\n\\n\\n\\n\\n\\n\\n\\nSHAIK RIAZUM\\nAssistant Professor\\t\\r\\n\\t\\t\\t\\t\\t\\t\\t\\t\\t\\tEducation\\xa0\\xa0\\xa0\\xa0\\xa0\\xa0\\xa0\\xa0\\xa0\\xa0: M.TECH \\r\\n\\t\\t\\t\\t\\tEmail\\xa0\\xa0\\xa0\\xa0\\xa0\\xa0\\xa0\\xa0\\xa0\\xa0\\xa0\\xa0\\xa0\\xa0\\xa0\\xa0: riazunshaik@rguktrkv.ac.in \\n\\nView profile ...\\n\\n\\n\\n\\n\\n\\n\\n\\nMr. KRISHNAM HARINATHA REDDY\\nAssistant Professor\\t\\r\\n\\t\\t\\t\\t\\t\\t\\t\\t\\t\\tEducation\\xa0\\xa0\\xa0\\xa0\\xa0\\xa0\\xa0\\xa0\\xa0\\xa0: M.Tech \\r\\n\\t\\t\\t\\t\\tEmail\\xa0\\xa0\\xa0\\xa0\\xa0\\xa0\\xa0\\xa0\\xa0\\xa0\\xa0\\xa0\\xa0\\xa0\\xa0\\xa0: harinathreddy108@rguktrkv.ac.in \\n\\nView profile ...\\n\\n\\n\\n\\n\\n\\n\\n\\nMr. SAFARI BHASKAR RAO\\nAssistant Professor\\t\\r\\n\\t\\t\\t\\t\\t\\t\\t\\t\\t\\tEducation\\xa0\\xa0\\xa0\\xa0\\xa0\\xa0\\xa0\\xa0\\xa0\\xa0: M.Tech \\r\\n\\t\\t\\t\\t\\tEmail\\xa0\\xa0\\xa0\\xa0\\xa0\\xa0\\xa0\\xa0\\xa0\\xa0\\xa0\\xa0\\xa0\\xa0\\xa0\\xa0: sfrsonu6@rguktrkv.ac.in \\n\\nView profile ...\\n\\n\\n\\n\\n\\n\\n\\n\\nS. Venkatesulu\\nAssistant Professor\\t\\r\\n\\t\\t\\t\\t\\t\\t\\t\\t\\t\\tEducation\\xa0\\xa0\\xa0\\xa0\\xa0\\xa0\\xa0\\xa0\\xa0\\xa0: M.Tech \\r\\n\\t\\t\\t\\t\\tEmail\\xa0\\xa0\\xa0\\xa0\\xa0\\xa0\\xa0\\xa0\\xa0\\xa0\\xa0\\xa0\\xa0\\xa0\\xa0\\xa0: v.sugali7@rguktrkv.ac.in \\n\\nView profile ...\\n\\n\\n\\n\\n\\n\\n\\n\\n\\n\\n\\n\\n\\n\\nHome |  Scroll to Top |  Feedback  |  Credits |  Contact Us \\xa0\\xa0\\xa0\\r\\n\\t\\t\\t\\n\\n\\n\\n\\n\\n\\n\\n\\n\\n\\nCopyright © 2010 Rajiv Gandhi University of Knowledge Technologies, All Rights Reserved; Send your Feedback/Comments to webmaster@rguktrkv.ac.in\\n\\n\\n\\n\\n\\n\\n\\n\\n\\n\"), Document(metadata={'source': 'https://www.rguktrkv.ac.in/Departments.php?view=EC&staff=NTS', 'title': 'Electronics and Communication Engg - RK Valley :: RGUKT-AP', 'description': '', 'language': ''}, page_content=\"\\n\\n\\n\\n\\n\\n\\n\\n\\n\\n\\nElectronics and Communication Engg - RK Valley :: RGUKT-AP\\n\\n\\n\\n\\n\\n\\n\\n\\n\\n\\n\\n\\n\\n\\n\\n\\n\\n\\n\\n\\nRajiv Gandhi University of Knowledge Technologies-Andhra Pradesh\\nRK Valley Institute\\n\\n(Constituted under the A.P Govt. Act 18 of 2008 and recognized as per Section 2(f), 12(B) of UGC Act, 1956) \\nAccredited by 'NAAC' with 'B+' Grade\\n\\n\\n\\n\\n\\n\\n\\n\\n\\n\\n\\nToggle navigation\\n\\n\\n\\n\\n\\n\\n\\n\\n\\n\\n\\nInstitute\\r\\n\\t\\t\\t\\t\\t\\t\\t  \\n\\n\\nAbout RGUKT\\nVision and Mission\\nBest Practices\\nOrganization Chart\\nStrategy Document\\nGoverning Council\\nAnnual Report\\nConvocation\\nOmbudsperson\\nNAAC Certificate\\nNIRF\\nUGC Status (12B)\\nUGC Status (2F)\\nUGC-NAD/ABC Cell\\nAICTE Mandatory Disclosure\\n\\n\\n\\n\\n\\nAcademics\\r\\n\\t\\t\\t\\t\\t\\t\\t  \\n\\n\\nAcademic Audit Reports\\n\\nMinutes of Academic Council Meetings\\nFaculty Ethics\\nAcademic Programmes\\nAcademic Regulations\\nAcademic Calendar\\nCurricula\\nDepartments\\nTime Table\\nExaminations\\n\\n\\n\\nAdministration\\r\\n\\t\\t\\t\\t\\t\\t\\t  \\n\\n\\nChancellor\\nVice Chancellor\\nDirector\\nAdministrative Officer\\nFinance Officer\\nEstablishment Section\\nDean of Academics\\nDean of Students Welfare\\nController of Examinations\\nAdministration\\n\\nSports Board\\nCommunication Directory\\n\\n\\n\\nFaculty\\r\\n\\t\\t\\t\\t\\t\\t\\t  \\n\\n\\nBio-Sciences\\nChemical Engineering\\nChemistry\\nCivil Engineering\\nComputer Science and Engineering\\nElectrical Engineering\\nElectronics and Communications Engineering\\nInformation Technology\\nMathematics\\nMechanical Engineering\\nMetallurgical & Materials Engineering\\nOther Departments\\n\\n\\n\\nAdmission\\r\\n\\t\\t\\t\\t\\t\\t\\t  \\n\\n\\nUG Admissions\\nPG Admissions\\nPh.D Admissions\\n\\n\\n\\nStudents\\r\\n\\t\\t\\t\\t\\t\\t\\t  \\n\\n\\nEducation at RGUKT\\nCareer Development Cell\\nIncubation Cell\\nInternational Desk\\nAnti Ragging\\nWomen's Cell\\nStudents' Welfare Office\\nAlumni Portal\\n\\n\\n\\nResearch\\r\\n\\t\\t\\t\\t\\t\\t\\t  \\n\\n\\nVision\\nResearch Head\\nEthics for Research\\nThrust Areas\\nResearch Guidelines\\nCollaboration MoU's\\nResearch and Advisory Committee\\n\\nDr.YSR Memorial Lecture Series\\n\\n1st Memorial Lecture\\n2nd Memorial Lecture\\n3rd Memorial Lecture\\n\\n\\n\\n\\nIQAC\\nPlacement Cell\\nLibrary\\nCareers\\nTenders\\nContact Us\\n\\n\\n\\n\\n\\n\\n\\n\\n\\nHome\\nDepartments\\nElectronics and Communication Engg\\nFaculty\\n\\n\\n\\n\\n\\xa0\\xa0Electronics and Communication Engg\\nFaculty\\nStaff\\nFacilities\\nBoard of Studies\\nContacts\\n\\n\\nBack to Previous Page\\n\\n\\n\\n\\nDepartment of Electronics and Communication Engg\\n\\n\\r\\n\\t\\t\\tStaff Memebers\\t\\t\\n\\n\\n\\n\\n\\n\\n\\nMr. Damodharareddy K\\nLab Assistant\\t\\r\\n\\t\\t\\t\\t\\t\\t\\t\\t\\t\\tEducation\\xa0\\xa0\\xa0\\xa0\\xa0\\xa0\\xa0\\xa0\\xa0\\xa0: Diploma In ECE \\r\\n\\t\\t\\t\\t\\tEmail\\xa0\\xa0\\xa0\\xa0\\xa0\\xa0\\xa0\\xa0\\xa0\\xa0\\xa0\\xa0\\xa0\\xa0\\xa0\\xa0: k.damodarareddy@rguktrkv.ac.in \\n\\n\\n\\n\\n\\n\\n\\n\\n\\nMr. R Subba Rayudu\\nLab Assistant\\t\\r\\n\\t\\t\\t\\t\\t\\t\\t\\t\\t\\tEducation\\xa0\\xa0\\xa0\\xa0\\xa0\\xa0\\xa0\\xa0\\xa0\\xa0: B.Tech \\r\\n\\t\\t\\t\\t\\tEmail\\xa0\\xa0\\xa0\\xa0\\xa0\\xa0\\xa0\\xa0\\xa0\\xa0\\xa0\\xa0\\xa0\\xa0\\xa0\\xa0: r.subbarayudu@rguktrkv.ac.in \\n\\n\\n\\n\\n\\n\\n\\n\\n\\nMr. K.N.Koundinya Kumar\\nLab Technician\\t\\r\\n\\t\\t\\t\\t\\t\\t\\t\\t\\t\\tEducation\\xa0\\xa0\\xa0\\xa0\\xa0\\xa0\\xa0\\xa0\\xa0\\xa0: I.T.I & DIPLOMA IN Electronics \\r\\n\\t\\t\\t\\t\\tEmail\\xa0\\xa0\\xa0\\xa0\\xa0\\xa0\\xa0\\xa0\\xa0\\xa0\\xa0\\xa0\\xa0\\xa0\\xa0\\xa0: knkoundinyakumar@rguktrkv.ac.in \\n\\n\\n\\n\\n\\n\\n\\n\\n\\nMr. Kuruva Venkateswarulu\\nLab Technician\\t\\r\\n\\t\\t\\t\\t\\t\\t\\t\\t\\t\\tEducation\\xa0\\xa0\\xa0\\xa0\\xa0\\xa0\\xa0\\xa0\\xa0\\xa0: I.T.I & DIPLOMA IN Electronics \\r\\n\\t\\t\\t\\t\\tEmail\\xa0\\xa0\\xa0\\xa0\\xa0\\xa0\\xa0\\xa0\\xa0\\xa0\\xa0\\xa0\\xa0\\xa0\\xa0\\xa0: k.venkateswarulu@rguktrkv.ac.in \\n\\n\\n\\n\\n\\n\\n\\n\\n\\n\\n\\n\\n\\n\\n\\nHome |  Scroll to Top |  Feedback  |  Credits |  Contact Us \\xa0\\xa0\\xa0\\r\\n\\t\\t\\t\\n\\n\\n\\n\\n\\n\\n\\n\\n\\n\\nCopyright © 2010 Rajiv Gandhi University of Knowledge Technologies, All Rights Reserved; Send your Feedback/Comments to webmaster@rguktrkv.ac.in\\n\\n\\n\\n\\n\\n\\n\\n\\n\\n\"), Document(metadata={'source': 'https://www.rguktrkv.ac.in/Syllabus.php?view=ECE', 'title': 'ECE - RK Valley :: RGUKT-AP', 'description': '', 'language': ''}, page_content=\"\\n\\n\\n\\n\\n\\n\\n\\n\\n\\n\\nECE - RK Valley :: RGUKT-AP\\n\\n\\n\\n\\n\\n\\n\\n\\n\\n\\n\\n\\n\\n\\n\\n\\n\\n\\n\\n\\nRajiv Gandhi University of Knowledge Technologies-Andhra Pradesh\\nRK Valley Institute\\n\\n(Constituted under the A.P Govt. Act 18 of 2008 and recognized as per Section 2(f), 12(B) of UGC Act, 1956) \\nAccredited by 'NAAC' with 'B+' Grade\\n\\n\\n\\n\\n\\n\\n\\n\\n\\n\\n\\nToggle navigation\\n\\n\\n\\n\\n\\n\\n\\n\\n\\n\\n\\nInstitute\\r\\n\\t\\t\\t\\t\\t\\t\\t  \\n\\n\\nAbout RGUKT\\nVision and Mission\\nBest Practices\\nOrganization Chart\\nStrategy Document\\nGoverning Council\\nAnnual Report\\nConvocation\\nOmbudsperson\\nNAAC Certificate\\nNIRF\\nUGC Status (12B)\\nUGC Status (2F)\\nUGC-NAD/ABC Cell\\nAICTE Mandatory Disclosure\\n\\n\\n\\n\\n\\nAcademics\\r\\n\\t\\t\\t\\t\\t\\t\\t  \\n\\n\\nAcademic Audit Reports\\n\\nMinutes of Academic Council Meetings\\nFaculty Ethics\\nAcademic Programmes\\nAcademic Regulations\\nAcademic Calendar\\nCurricula\\nDepartments\\nTime Table\\nExaminations\\n\\n\\n\\nAdministration\\r\\n\\t\\t\\t\\t\\t\\t\\t  \\n\\n\\nChancellor\\nVice Chancellor\\nDirector\\nAdministrative Officer\\nFinance Officer\\nEstablishment Section\\nDean of Academics\\nDean of Students Welfare\\nController of Examinations\\nAdministration\\n\\nSports Board\\nCommunication Directory\\n\\n\\n\\nFaculty\\r\\n\\t\\t\\t\\t\\t\\t\\t  \\n\\n\\nBio-Sciences\\nChemical Engineering\\nChemistry\\nCivil Engineering\\nComputer Science and Engineering\\nElectrical Engineering\\nElectronics and Communications Engineering\\nInformation Technology\\nMathematics\\nMechanical Engineering\\nMetallurgical & Materials Engineering\\nOther Departments\\n\\n\\n\\nAdmission\\r\\n\\t\\t\\t\\t\\t\\t\\t  \\n\\n\\nUG Admissions\\nPG Admissions\\nPh.D Admissions\\n\\n\\n\\nStudents\\r\\n\\t\\t\\t\\t\\t\\t\\t  \\n\\n\\nEducation at RGUKT\\nCareer Development Cell\\nIncubation Cell\\nInternational Desk\\nAnti Ragging\\nWomen's Cell\\nStudents' Welfare Office\\nAlumni Portal\\n\\n\\n\\nResearch\\r\\n\\t\\t\\t\\t\\t\\t\\t  \\n\\n\\nVision\\nResearch Head\\nEthics for Research\\nThrust Areas\\nResearch Guidelines\\nCollaboration MoU's\\nResearch and Advisory Committee\\n\\nDr.YSR Memorial Lecture Series\\n\\n1st Memorial Lecture\\n2nd Memorial Lecture\\n3rd Memorial Lecture\\n\\n\\n\\n\\nIQAC\\nPlacement Cell\\nLibrary\\nCareers\\nTenders\\nContact Us\\n\\n\\n\\n\\n\\n\\n\\n\\n\\nHome\\nAcademics Programmes\\nCurricula\\nElectronics and Communications Engineering\\n\\n\\n\\n\\nElectronics and Communications Engineering\\nList of Electives\\n\\n\\nBack to Previous Page\\n\\n\\n\\n\\nCurriculum of Electronics and Communications Engineering\\n\\n\\n\\n\\nCurriculum for the Academics Year 2020-21 ( 2020 Batch Students Onwards)\\n\\n\\nCurriculum for the Academics Year 2017-21 ( 2015 Batch Students )\\n\\n\\nCurriculum for the Academics Year 2016-20 ( 2014 Batch Students )\\n\\n\\nCurriculum for the Academics Year 2015-19 ( 2013 Batch Students )\\n\\n\\nCurriculum for the Academics Year 2014-18 ( 2012 Batch Students )\\n\\n\\nCurriculum for the Academics Year 2013-17 ( 2011 Batch Students )\\n\\n\\nCurriculum for the Academics Year 2012-16 ( 2010 Batch Students )\\n\\n\\n\\n\\n\\n\\n\\n\\n\\n\\n\\n\\n\\n\\n\\nHome |  Scroll to Top |  Feedback  |  Credits |  Contact Us \\xa0\\xa0\\xa0\\r\\n\\t\\t\\t\\n\\n\\n\\n\\n\\n\\n\\n\\n\\n\\nCopyright © 2010 Rajiv Gandhi University of Knowledge Technologies, All Rights Reserved; Send your Feedback/Comments to webmaster@rguktrkv.ac.in\\n\\n\\n\\n\\n\\n\\n\\n\\n\\n\"), Document(metadata={'source': 'https://www.rguktrkv.ac.in/#', 'title': 'Home - RK Valley :: RGUKT-AP', 'description': '', 'language': ''}, page_content=\"\\n\\n\\n\\n\\n\\n\\n\\n\\n\\n\\nHome - RK Valley :: RGUKT-AP\\n\\n\\n\\n\\n\\n\\n\\n\\n\\n\\n\\n\\n\\n\\n\\n\\n\\n\\n\\n\\nRajiv Gandhi University of Knowledge Technologies-Andhra Pradesh\\nRK Valley Institute\\n\\n(Constituted under the A.P Govt. Act 18 of 2008 and recognized as per Section 2(f), 12(B) of UGC Act, 1956) \\nAccredited by 'NAAC' with 'B+' Grade\\n\\n\\n\\n\\n\\n\\n\\n\\n\\n\\n\\nToggle navigation\\n\\n\\n\\n\\n\\n\\n\\n\\n\\n\\n\\nInstitute\\r\\n\\t\\t\\t\\t\\t\\t\\t  \\n\\n\\nAbout RGUKT\\nVision and Mission\\nBest Practices\\nOrganization Chart\\nStrategy Document\\nGoverning Council\\nAnnual Report\\nConvocation\\nOmbudsperson\\nNAAC Certificate\\nNIRF\\nUGC Status (12B)\\nUGC Status (2F)\\nUGC-NAD/ABC Cell\\nAICTE Mandatory Disclosure\\n\\n\\n\\n\\n\\nAcademics\\r\\n\\t\\t\\t\\t\\t\\t\\t  \\n\\n\\nAcademic Audit Reports\\n\\nMinutes of Academic Council Meetings\\nFaculty Ethics\\nAcademic Programmes\\nAcademic Regulations\\nAcademic Calendar\\nCurricula\\nDepartments\\nTime Table\\nExaminations\\n\\n\\n\\nAdministration\\r\\n\\t\\t\\t\\t\\t\\t\\t  \\n\\n\\nChancellor\\nVice Chancellor\\nDirector\\nAdministrative Officer\\nFinance Officer\\nEstablishment Section\\nDean of Academics\\nDean of Students Welfare\\nController of Examinations\\nAdministration\\n\\nSports Board\\nCommunication Directory\\n\\n\\n\\nFaculty\\r\\n\\t\\t\\t\\t\\t\\t\\t  \\n\\n\\nBio-Sciences\\nChemical Engineering\\nChemistry\\nCivil Engineering\\nComputer Science and Engineering\\nElectrical Engineering\\nElectronics and Communications Engineering\\nInformation Technology\\nMathematics\\nMechanical Engineering\\nMetallurgical & Materials Engineering\\nOther Departments\\n\\n\\n\\nAdmission\\r\\n\\t\\t\\t\\t\\t\\t\\t  \\n\\n\\nUG Admissions\\nPG Admissions\\nPh.D Admissions\\n\\n\\n\\nStudents\\r\\n\\t\\t\\t\\t\\t\\t\\t  \\n\\n\\nEducation at RGUKT\\nCareer Development Cell\\nIncubation Cell\\nInternational Desk\\nAnti Ragging\\nWomen's Cell\\nStudents' Welfare Office\\nAlumni Portal\\n\\n\\n\\nResearch\\r\\n\\t\\t\\t\\t\\t\\t\\t  \\n\\n\\nVision\\nResearch Head\\nEthics for Research\\nThrust Areas\\nResearch Guidelines\\nCollaboration MoU's\\nResearch and Advisory Committee\\n\\nDr.YSR Memorial Lecture Series\\n\\n1st Memorial Lecture\\n2nd Memorial Lecture\\n3rd Memorial Lecture\\n\\n\\n\\n\\nIQAC\\nPlacement Cell\\nLibrary\\nCareers\\nTenders\\nContact Us\\n\\n\\n\\n\\n\\n\\n ***Certificate of Accreditation for NAAC \\xa0\\xa0***   \\n\\n\\n\\n\\n\\n\\n\\n\\n\\n\\n\\n\\n\\n\\n\\n\\n\\n\\n\\n\\n\\n\\n\\n\\n\\n\\n\\n\\n\\n\\n\\n\\n\\n\\n\\n\\n\\n\\n\\n\\n\\n\\n\\n\\n\\n\\n\\n\\n\\n\\n\\n\\n\\n\\n\\n\\n\\n\\n\\n\\n\\nProf. M. Vijaya Kumar\\nVice-Chancellor (FAC)\\nProf. M. Vijaya Kumar, Rector, Jawaharlal Nehru Technological University Anantapur (JNTUA) has assumed charge as Vice-Chancellor In-Charge of Rajiv Gandhi University of Knowledge Technologies, A.P. on 20th January, 2023. He is an erudite professor, well-known teacher and eminent researcher who aspires to use science and technology to improve community life. \\n\\nmore....\\n\\n\\n\\nProf. A V S S Kumara Swami Gupta\\nDirector\\nDr Gupta has completed his Bachelor degree in Mechanical Engineering from JNTU College of Engineering, Anantapur in 1993, Masters degree in Mechanical Engineering from Regional Engineering College, Warangal (RECW) and Doctoral degree from Indian Institute of Technology, Kharagpur (IITKGP) in the year 1999.\\n\\nmore....\\n\\n\\n\\n\\n\\n\\n\\n\\n\\n\\n\\n\\n\\n\\n\\n\\n\\n\\n\\n\\n\\n\\n\\n\\n\\n\\n\\n\\n\\n\\n\\n\\n\\n\\n\\n\\n\\n\\n\\n\\n\\n\\n\\n\\n\\n\\n\\n\\n\\n\\n\\n\\n\\n\\n\\n\\n\\n\\n\\n\\n\\n\\n\\n\\n\\n\\n\\n\\n\\n\\n\\n\\n\\n\\n\\n\\nLatest News\\n\\n\\n(09.12.2024)\\xa0\\xa0Registrations for remedial exams for R08 to R16 batches students.  VISIT EXAMCELL\\n(05.11.2024)\\xa0\\xa0Advertisement for the post of Project Fellow under RUSA Project in Dept. of CIVIL\\n(02.11.2024)\\xa0\\xa0Advertisement for the post of Project Fellow under RUSA Project in Dept. of MME\\n(14.03.2024)\\xa0\\xa0Applications are invited for the Post of Residential Medical Officer (RMO) (Female) and Yoga Instructor for RGUKT RK Valley campus\\n(11.12.2023)\\xa0\\xa0Revised academic calendar for 2nd semester for the academic year 2023-24\\n(11.12.2023)\\xa0\\xa0Viksit Bharat @2047\\n\\n\\n\\n\\n\\n\\n\\n\\n\\n\\n\\n\\n\\nTenders\\n\\n\\n(19.09.2022)\\xa0\\xa0Notice inviting quotations for supplying of different items for RGUKT,RKValley(E-Procurement)\\n(20.05.2022)\\xa0\\xa0Notice inviting quotations for supply of medicines(Q36)\\n\\n\\n\\n\\n\\nEvents\\n\\n\\n(06.07.2022)\\xa0\\xa02nd Dr. YSR Memorial Lecture by Dr. Kota Harinarayana on Aircraft-Artificial Intelligence-Agriculture: The AAA Effect\\n(26.02.2022)\\xa0\\xa05th Convocation :: Video\\n\\n\\n\\n\\n\\n\\n\\n\\n\\n\\n\\n\\n\\n\\n\\nThe Institute\\n\\n\\n\\nAbout RGUKT\\nChancellor\\nVice Chancellor\\nDirector\\nGoverning Council\\n\\nAdministration\\nEstablishment Section\\nFaculty\\nSports Board\\nCommunication Directory\\nAnnual Reports\\nIQAC\\nRight to Information Act\\n\\n\\n\\n\\n\\nConvocation\\n\\n\\nSports Board\\n\\n\\n\\n\\nAcademics\\n\\n\\n\\nAcademic Programmes\\nUG Programme\\nPG Programme\\nResearch\\nAcademic Regulations\\nAcademic Calendar\\nPublications\\nCurricula\\nDepartments\\nTime Table\\nExaminations\\nSummer Programmes\\nAcademic Innovation\\n\\n\\n\\n\\n\\nExamination Cell\\n\\n\\nCE & HE Cell\\n\\n\\nOmbudsperson\\n\\n\\n\\n\\nStudents\\n\\n\\n\\nAdmissions\\nEducation at RGUKT\\n\\nCareer Development Cell\\nCE & HE Cell\\nOmbudsperson\\nInternational Desk\\nLibrary\\nSC/ST Cell\\nFacilities\\n\\nAnti Ragging\\nStudents' Welfare Office\\nNSS Activities\\nEvents & Activities\\nAchievements\\nAlumni Portal\\n\\n\\n\\n\\n\\nSC/ST Cell\\n\\n\\nAlumni Portal\\n\\n\\n\\n\\nQuick Links\\n\\n\\n\\nNAAC Certificate\\nNIRF\\nUGC Status (12B)\\nUGC Status (2F)\\nUGC-NAD/ABC Cell\\nAICTE Mandatory Disclosure\\n\\nCareers @ RK Valley\\nTenders & Quotations\\nInstitute Holiday List (2024)\\nInstitute Holiday List (2025)\\nPhoto Gallery\\nDownload Forms\\nOnline Payments\\xa0\\nEducational Details Verification\\nContact Us\\nLink to Other RGUKT Institutes\\nOnline Services for Voters\\n\\n\\n\\n\\n\\nPlacement Cell\\n\\n\\nOnline Payments\\n\\n\\n\\n\\n\\n\\n\\n\\n\\n\\nHome |  Scroll to Top |  Feedback  |  Credits |  Contact Us \\xa0\\xa0\\xa0\\r\\n\\t\\t\\t\\n\\n\\n\\n\\n\\n\\n\\n\\n\\n\\nCopyright © 2010 Rajiv Gandhi University of Knowledge Technologies, All Rights Reserved; Send your Feedback/Comments to webmaster@rguktrkv.ac.in\\n\\n\\n\\n\\n\\n\\n\\n\\n\\n\")]\n"
     ]
    }
   ],
   "source": [
    "print(webdata)"
   ]
  },
  {
   "cell_type": "code",
   "execution_count": 13,
   "id": "a04f5e7f-5bd3-4c3f-8c03-f41be0305401",
   "metadata": {},
   "outputs": [],
   "source": []
  },
  {
   "cell_type": "code",
   "execution_count": 14,
   "id": "64270eb7-45df-451e-832d-19bae61cfb48",
   "metadata": {},
   "outputs": [
    {
     "data": {
      "text/plain": [
       "[\"\\n\\n\\n\\n\\n\\n\\n\\n\\n\\n\\nElectronics and Communication Engg - RK Valley :: RGUKT-AP\\n\\n\\n\\n\\n\\n\\n\\n\\n\\n\\n\\n\\n\\n\\n\\n\\n\\n\\n\\n\\nRajiv Gandhi University of Knowledge Technologies-Andhra Pradesh\\nRK Valley Institute\\n\\n(Constituted under the A.P Govt. Act 18 of 2008 and recognized as per Section 2(f), 12(B) of UGC Act, 1956) \\nAccredited by 'NAAC' with 'B+' Grade\\n\\n\\n\\n\\n\\n\\n\\n\\n\\n\\n\\nToggle navigation\\n\\n\\n\\n\\n\\n\\n\\n\\n\\n\\n\\nInstitute\\r\\n\\t\\t\\t\\t\\t\\t\\t  \\n\\n\\nAbout RGUKT\\nVision and Mission\\nBest Practices\\nOrganization Chart\\nStrategy Document\\nGoverning Council\\nAnnual Report\\nConvocation\\nOmbudsperson\\nNAAC Certificate\\nNIRF\\nUGC Status (12B)\\nUGC Status (2F)\\nUGC-NAD/ABC Cell\\nAICTE Mandatory Disclosure\\n\\n\\n\\n\\n\\nAcademics\\r\\n\\t\\t\\t\\t\\t\\t\\t  \\n\\n\\nAcademic Audit Reports\\n\\nMinutes of Academic Council Meetings\\nFaculty Ethics\\nAcademic Programmes\\nAcademic Regulations\\nAcademic Calendar\\nCurricula\\nDepartments\\nTime Table\\nExaminations\\n\\n\\n\\nAdministration\\r\\n\\t\\t\\t\\t\\t\\t\\t  \\n\\n\\nChancellor\\nVice Chancellor\\nDirector\\nAdministrative Officer\\nFinance Officer\\nEstablishment Section\\nDean of Academics\\nDean of Students Welfare\\nController of Examinations\\nAdministration\\n\\nSports Board\\nCommunication Directory\\n\\n\\n\\nFaculty\\r\\n\\t\\t\\t\\t\\t\\t\\t  \\n\\n\\nBio-Sciences\\nChemical Engineering\\nChemistry\\nCivil Engineering\\nComputer Science and Engineering\\nElectrical Engineering\\nElectronics and Communications Engineering\\nInformation Technology\\nMathematics\\nMechanical Engineering\\nMetallurgical & Materials Engineering\\nOther Departments\\n\\n\\n\\nAdmission\\r\\n\\t\\t\\t\\t\\t\\t\\t  \\n\\n\\nUG Admissions\\nPG Admissions\\nPh.D Admissions\\n\\n\\n\\nStudents\\r\\n\\t\\t\\t\\t\\t\\t\\t  \\n\\n\\nEducation at RGUKT\\nCareer Development Cell\\nIncubation Cell\\nInternational Desk\\nAnti Ragging\\nWomen's Cell\\nStudents' Welfare Office\\nAlumni Portal\\n\\n\\n\\nResearch\\r\\n\\t\\t\\t\\t\\t\\t\\t  \\n\\n\\nVision\\nResearch Head\\nEthics for Research\\nThrust Areas\\nResearch Guidelines\\nCollaboration MoU's\\nResearch and Advisory Committee\\n\\nDr.YSR Memorial Lecture Series\\n\\n1st Memorial Lecture\\n2nd Memorial Lecture\\n3rd Memorial Lecture\\n\\n\\n\\n\\nIQAC\\nPlacement Cell\\nLibrary\\nCareers\\nTenders\\nContact Us\\n\\n\\n\\n\\n\\n\\n\\n\\n\\nHome\\nDepartments\\nElectronics and Communication Engg\\nFaculty\\n\\n\\n\\n\\n\\xa0\\xa0Electronics and Communication Engg\\nFaculty\\nStaff\\nFacilities\\nBoard of Studies\\nContacts\\n\\n\\nBack to Previous Page\\n\\n\\n\\n\\nDepartment of Electronics and Communication Engg\\n\\n\\r\\n\\t\\t\\tFaculty Members\\t\\t\\n\\n\\n\\n\\n\\n\\n\\nMr. Y Arun Kumar Reddy\\nAssistant Professor\\nResponsibilities : Head of the Department\\t\\r\\n\\t\\t\\t\\t\\t\\t\\t\\t\\t\\tEducation\\xa0\\xa0\\xa0\\xa0\\xa0\\xa0\\xa0\\xa0\\xa0\\xa0: M.Tech (IIT Kharagpur) \\r\\n\\t\\t\\t\\t\\tEmail\\xa0\\xa0\\xa0\\xa0\\xa0\\xa0\\xa0\\xa0\\xa0\\xa0\\xa0\\xa0\\xa0\\xa0\\xa0\\xa0: hodece@rguktrkv.ac.in, yarunkumarreddy@rguktrkv.ac.in \\n\\nView profile ...\\n\\n\\n\\n\\n\\n\\n\\n\\nMr. B. V. Sudhakar Reddy\\nAssistant Professor\\t\\r\\n\\t\\t\\t\\t\\t\\t\\t\\t\\t\\tEducation\\xa0\\xa0\\xa0\\xa0\\xa0\\xa0\\xa0\\xa0\\xa0\\xa0: M.Tech (IIT Kharagpur) \\r\\n\\t\\t\\t\\t\\tEmail\\xa0\\xa0\\xa0\\xa0\\xa0\\xa0\\xa0\\xa0\\xa0\\xa0\\xa0\\xa0\\xa0\\xa0\\xa0\\xa0: sudhakar@rguktrkv.ac.in \\n\\nView profile ...\\n\\n\\n\\n\\n\\n\\n\\n\\nDr. SK Mahammad Rafi\\nAssistant Professor\\nResponsibilities : Coordinator for Alumni\\t\\r\\n\\t\\t\\t\\t\\t\\t\\t\\t\\t\\tEducation\\xa0\\xa0\\xa0\\xa0\\xa0\\xa0\\xa0\\xa0\\xa0\\xa0: M.Tech (JNTU Hyderabad), Ph.D (IIT Hyderabad) \\r\\n\\t\\t\\t\\t\\tEmail\\xa0\\xa0\\xa0\\xa0\\xa0\\xa0\\xa0\\xa0\\xa0\\xa0\\xa0\\xa0\\xa0\\xa0\\xa0\\xa0: rafi@rguktrkv.ac.in \\n\\nView profile ...\\n\\n\\n\\n\\n\\n\\n\\n\\nMs. G. Lakshmi Shireesha\\nAssistant Professor\\t\\r\\n\\t\\t\\t\\t\\t\\t\\t\\t\\t\\tEducation\\xa0\\xa0\\xa0\\xa0\\xa0\\xa0\\xa0\\xa0\\xa0\\xa0: M.Tech (NIT-Trichy) \\r\\n\\t\\t\\t\\t\\tEmail\\xa0\\xa0\\xa0\\xa0\\xa0\\xa0\\xa0\\xa0\\xa0\\xa0\\xa0\\xa0\\xa0\\xa0\\xa0\\xa0: glakshmishireesha@rguktrkv.ac.in \\n\\nView profile ...\\n\\n\\n\\n\\n\\n\\n\\n\\nMr. K. Abdul Munaf\\nAssistant Professor\\t\\r\\n\\t\\t\\t\\t\\t\\t\\t\\t\\t\\tEducation\\xa0\\xa0\\xa0\\xa0\\xa0\\xa0\\xa0\\xa0\\xa0\\xa0: M.Tech \\r\\n\\t\\t\\t\\t\\tEmail\\xa0\\xa0\\xa0\\xa0\\xa0\\xa0\\xa0\\xa0\\xa0\\xa0\\xa0\\xa0\\xa0\\xa0\\xa0\\xa0: kabdulmunaf@rguktrkv.ac.in \\n\\nView profile ...\\n\\n\\n\\n\\n\\n\\n\\n\\nMr. N Mohan Raju\\nAssistant Professor\\t\\r\\n\\t\\t\\t\\t\\t\\t\\t\\t\\t\\tEducation\\xa0\\xa0\\xa0\\xa0\\xa0\\xa0\\xa0\\xa0\\xa0\\xa0: M.Tech \\r\\n\\t\\t\\t\\t\\tEmail\\xa0\\xa0\\xa0\\xa0\\xa0\\xa0\\xa0\\xa0\\xa0\\xa0\\xa0\\xa0\\xa0\\xa0\\xa0\\xa0: nmohanraju@rguktrkv.ac.in \\n\\nView profile ...\\n\\n\\n\\n\\n\\n\\n\\n\\nMrs. M. Anitha\\nAssistant Professor\\t\\r\\n\\t\\t\\t\\t\\t\\t\\t\\t\\t\\tEducation\\xa0\\xa0\\xa0\\xa0\\xa0\\xa0\\xa0\\xa0\\xa0\\xa0: M.Tech \\r\\n\\t\\t\\t\\t\\tEmail\\xa0\\xa0\\xa0\\xa0\\xa0\\xa0\\xa0\\xa0\\xa0\\xa0\\xa0\\xa0\\xa0\\xa0\\xa0\\xa0: manitha@rguktrkv.ac.in \\n\\nView profile ...\\n\\n\\n\\n\\n\\n\\n\\n\\nMr. P Janardhan Reddy\\nAssistant Professor\\t\\r\\n\\t\\t\\t\\t\\t\\t\\t\\t\\t\\tEducation\\xa0\\xa0\\xa0\\xa0\\xa0\\xa0\\xa0\\xa0\\xa0\\xa0: M.Tech \\r\\n\\t\\t\\t\\t\\tEmail\\xa0\\xa0\\xa0\\xa0\\xa0\\xa0\\xa0\\xa0\\xa0\\xa0\\xa0\\xa0\\xa0\\xa0\\xa0\\xa0: janardhanreddy@rguktrkv.ac.in \\n\\nView profile ...\\n\\n\\n\\n\\n\\n\\n\\n\\nMr. P. Siva Krishna\\nAssistant Professor\\t\\r\\n\\t\\t\\t\\t\\t\\t\\t\\t\\t\\tEducation\\xa0\\xa0\\xa0\\xa0\\xa0\\xa0\\xa0\\xa0\\xa0\\xa0: M.Tech \\r\\n\\t\\t\\t\\t\\tEmail\\xa0\\xa0\\xa0\\xa0\\xa0\\xa0\\xa0\\xa0\\xa0\\xa0\\xa0\\xa0\\xa0\\xa0\\xa0\\xa0: psivakrishna@rguktrkv.ac.in\\r \\n\\nView profile ...\\n\\n\\n\\n\\n\\n\\n\\n\\nMrs. V Lakshmi Prasanna\\nAssistant Professor\\t\\r\\n\\t\\t\\t\\t\\t\\t\\t\\t\\t\\tEducation\\xa0\\xa0\\xa0\\xa0\\xa0\\xa0\\xa0\\xa0\\xa0\\xa0: M.Tech \\r\\n\\t\\t\\t\\t\\tEmail\\xa0\\xa0\\xa0\\xa0\\xa0\\xa0\\xa0\\xa0\\xa0\\xa0\\xa0\\xa0\\xa0\\xa0\\xa0\\xa0:  \\n\\nView profile ...\\n\\n\\n\\n\\n\\n\\n\\n\\nMr. T Naresh\\nAssistant Professor\\t\\r\\n\\t\\t\\t\\t\\t\\t\\t\\t\\t\\tEducation\\xa0\\xa0\\xa0\\xa0\\xa0\\xa0\\xa0\\xa0\\xa0\\xa0: M.Tech \\r\\n\\t\\t\\t\\t\\tEmail\\xa0\\xa0\\xa0\\xa0\\xa0\\xa0\\xa0\\xa0\\xa0\\xa0\\xa0\\xa0\\xa0\\xa0\\xa0\\xa0: talarinaresh777@rguktrkv.ac.in \\n\\nView profile ...\\n\\n\\n\\n\\n\\n\\n\\n\\nMr. B Madhan Mohan\\nAssistant Professor\\t\\r\\n\\t\\t\\t\\t\\t\\t\\t\\t\\t\\tEducation\\xa0\\xa0\\xa0\\xa0\\xa0\\xa0\\xa0\\xa0\\xa0\\xa0: M.Tech \\r\\n\\t\\t\\t\\t\\tEmail\\xa0\\xa0\\xa0\\xa0\\xa0\\xa0\\xa0\\xa0\\xa0\\xa0\\xa0\\xa0\\xa0\\xa0\\xa0\\xa0: madhan.betharaju@rguktrkv.ac.in \\n\\nView profile ...\\n\\n\\n\\n\\n\\n\\n\\n\\nMr. B Mohan Reddy\\nAssistant Professor\\t\\r\\n\\t\\t\\t\\t\\t\\t\\t\\t\\t\\tEducation\\xa0\\xa0\\xa0\\xa0\\xa0\\xa0\\xa0\\xa0\\xa0\\xa0: M.Tech \\r\\n\\t\\t\\t\\t\\tEmail\\xa0\\xa0\\xa0\\xa0\\xa0\\xa0\\xa0\\xa0\\xa0\\xa0\\xa0\\xa0\\xa0\\xa0\\xa0\\xa0: bmohan4031@rguktrkv.ac.in \\n\\nView profile ...\\n\\n\\n\\n\\n\\n\\n\\n\\nMr. R. Pavan kumar\\nAssistant Professor\\t\\r\\n\\t\\t\\t\\t\\t\\t\\t\\t\\t\\tEducation\\xa0\\xa0\\xa0\\xa0\\xa0\\xa0\\xa0\\xa0\\xa0\\xa0: M.Tech \\r\\n\\t\\t\\t\\t\\tEmail\\xa0\\xa0\\xa0\\xa0\\xa0\\xa0\\xa0\\xa0\\xa0\\xa0\\xa0\\xa0\\xa0\\xa0\\xa0\\xa0: rpavankumar@rguktrkv.ac.in \\n\\nView profile ...\\n\\n\\n\\n\\n\\n\\n\\n\\nSHAIK RIAZUM\\nAssistant Professor\\t\\r\\n\\t\\t\\t\\t\\t\\t\\t\\t\\t\\tEducation\\xa0\\xa0\\xa0\\xa0\\xa0\\xa0\\xa0\\xa0\\xa0\\xa0: M.TECH \\r\\n\\t\\t\\t\\t\\tEmail\\xa0\\xa0\\xa0\\xa0\\xa0\\xa0\\xa0\\xa0\\xa0\\xa0\\xa0\\xa0\\xa0\\xa0\\xa0\\xa0: riazunshaik@rguktrkv.ac.in \\n\\nView profile ...\\n\\n\\n\\n\\n\\n\\n\\n\\nMr. KRISHNAM HARINATHA REDDY\\nAssistant Professor\\t\\r\\n\\t\\t\\t\\t\\t\\t\\t\\t\\t\\tEducation\\xa0\\xa0\\xa0\\xa0\\xa0\\xa0\\xa0\\xa0\\xa0\\xa0: M.Tech \\r\\n\\t\\t\\t\\t\\tEmail\\xa0\\xa0\\xa0\\xa0\\xa0\\xa0\\xa0\\xa0\\xa0\\xa0\\xa0\\xa0\\xa0\\xa0\\xa0\\xa0: harinathreddy108@rguktrkv.ac.in \\n\\nView profile ...\\n\\n\\n\\n\\n\\n\\n\\n\\nMr. SAFARI BHASKAR RAO\\nAssistant Professor\\t\\r\\n\\t\\t\\t\\t\\t\\t\\t\\t\\t\\tEducation\\xa0\\xa0\\xa0\\xa0\\xa0\\xa0\\xa0\\xa0\\xa0\\xa0: M.Tech \\r\\n\\t\\t\\t\\t\\tEmail\\xa0\\xa0\\xa0\\xa0\\xa0\\xa0\\xa0\\xa0\\xa0\\xa0\\xa0\\xa0\\xa0\\xa0\\xa0\\xa0: sfrsonu6@rguktrkv.ac.in \\n\\nView profile ...\\n\\n\\n\\n\\n\\n\\n\\n\\nS. Venkatesulu\\nAssistant Professor\\t\\r\\n\\t\\t\\t\\t\\t\\t\\t\\t\\t\\tEducation\\xa0\\xa0\\xa0\\xa0\\xa0\\xa0\\xa0\\xa0\\xa0\\xa0: M.Tech \\r\\n\\t\\t\\t\\t\\tEmail\\xa0\\xa0\\xa0\\xa0\\xa0\\xa0\\xa0\\xa0\\xa0\\xa0\\xa0\\xa0\\xa0\\xa0\\xa0\\xa0: v.sugali7@rguktrkv.ac.in \\n\\nView profile ...\\n\\n\\n\\n\\n\\n\\n\\n\\n\\n\\n\\n\\n\\n\\nHome |  Scroll to Top |  Feedback  |  Credits |  Contact Us \\xa0\\xa0\\xa0\\r\\n\\t\\t\\t\\n\\n\\n\\n\\n\\n\\n\\n\\n\\n\\nCopyright © 2010 Rajiv Gandhi University of Knowledge Technologies, All Rights Reserved; Send your Feedback/Comments to webmaster@rguktrkv.ac.in\\n\\n\\n\\n\\n\\n\\n\\n\\n\\n\",\n",
       " \"\\n\\n\\n\\n\\n\\n\\n\\n\\n\\n\\nElectronics and Communication Engg - RK Valley :: RGUKT-AP\\n\\n\\n\\n\\n\\n\\n\\n\\n\\n\\n\\n\\n\\n\\n\\n\\n\\n\\n\\n\\nRajiv Gandhi University of Knowledge Technologies-Andhra Pradesh\\nRK Valley Institute\\n\\n(Constituted under the A.P Govt. Act 18 of 2008 and recognized as per Section 2(f), 12(B) of UGC Act, 1956) \\nAccredited by 'NAAC' with 'B+' Grade\\n\\n\\n\\n\\n\\n\\n\\n\\n\\n\\n\\nToggle navigation\\n\\n\\n\\n\\n\\n\\n\\n\\n\\n\\n\\nInstitute\\r\\n\\t\\t\\t\\t\\t\\t\\t  \\n\\n\\nAbout RGUKT\\nVision and Mission\\nBest Practices\\nOrganization Chart\\nStrategy Document\\nGoverning Council\\nAnnual Report\\nConvocation\\nOmbudsperson\\nNAAC Certificate\\nNIRF\\nUGC Status (12B)\\nUGC Status (2F)\\nUGC-NAD/ABC Cell\\nAICTE Mandatory Disclosure\\n\\n\\n\\n\\n\\nAcademics\\r\\n\\t\\t\\t\\t\\t\\t\\t  \\n\\n\\nAcademic Audit Reports\\n\\nMinutes of Academic Council Meetings\\nFaculty Ethics\\nAcademic Programmes\\nAcademic Regulations\\nAcademic Calendar\\nCurricula\\nDepartments\\nTime Table\\nExaminations\\n\\n\\n\\nAdministration\\r\\n\\t\\t\\t\\t\\t\\t\\t  \\n\\n\\nChancellor\\nVice Chancellor\\nDirector\\nAdministrative Officer\\nFinance Officer\\nEstablishment Section\\nDean of Academics\\nDean of Students Welfare\\nController of Examinations\\nAdministration\\n\\nSports Board\\nCommunication Directory\\n\\n\\n\\nFaculty\\r\\n\\t\\t\\t\\t\\t\\t\\t  \\n\\n\\nBio-Sciences\\nChemical Engineering\\nChemistry\\nCivil Engineering\\nComputer Science and Engineering\\nElectrical Engineering\\nElectronics and Communications Engineering\\nInformation Technology\\nMathematics\\nMechanical Engineering\\nMetallurgical & Materials Engineering\\nOther Departments\\n\\n\\n\\nAdmission\\r\\n\\t\\t\\t\\t\\t\\t\\t  \\n\\n\\nUG Admissions\\nPG Admissions\\nPh.D Admissions\\n\\n\\n\\nStudents\\r\\n\\t\\t\\t\\t\\t\\t\\t  \\n\\n\\nEducation at RGUKT\\nCareer Development Cell\\nIncubation Cell\\nInternational Desk\\nAnti Ragging\\nWomen's Cell\\nStudents' Welfare Office\\nAlumni Portal\\n\\n\\n\\nResearch\\r\\n\\t\\t\\t\\t\\t\\t\\t  \\n\\n\\nVision\\nResearch Head\\nEthics for Research\\nThrust Areas\\nResearch Guidelines\\nCollaboration MoU's\\nResearch and Advisory Committee\\n\\nDr.YSR Memorial Lecture Series\\n\\n1st Memorial Lecture\\n2nd Memorial Lecture\\n3rd Memorial Lecture\\n\\n\\n\\n\\nIQAC\\nPlacement Cell\\nLibrary\\nCareers\\nTenders\\nContact Us\\n\\n\\n\\n\\n\\n\\n\\n\\n\\nHome\\nDepartments\\nElectronics and Communication Engg\\nFaculty\\n\\n\\n\\n\\n\\xa0\\xa0Electronics and Communication Engg\\nFaculty\\nStaff\\nFacilities\\nBoard of Studies\\nContacts\\n\\n\\nBack to Previous Page\\n\\n\\n\\n\\nDepartment of Electronics and Communication Engg\\n\\n\\r\\n\\t\\t\\tStaff Memebers\\t\\t\\n\\n\\n\\n\\n\\n\\n\\nMr. Damodharareddy K\\nLab Assistant\\t\\r\\n\\t\\t\\t\\t\\t\\t\\t\\t\\t\\tEducation\\xa0\\xa0\\xa0\\xa0\\xa0\\xa0\\xa0\\xa0\\xa0\\xa0: Diploma In ECE \\r\\n\\t\\t\\t\\t\\tEmail\\xa0\\xa0\\xa0\\xa0\\xa0\\xa0\\xa0\\xa0\\xa0\\xa0\\xa0\\xa0\\xa0\\xa0\\xa0\\xa0: k.damodarareddy@rguktrkv.ac.in \\n\\n\\n\\n\\n\\n\\n\\n\\n\\nMr. R Subba Rayudu\\nLab Assistant\\t\\r\\n\\t\\t\\t\\t\\t\\t\\t\\t\\t\\tEducation\\xa0\\xa0\\xa0\\xa0\\xa0\\xa0\\xa0\\xa0\\xa0\\xa0: B.Tech \\r\\n\\t\\t\\t\\t\\tEmail\\xa0\\xa0\\xa0\\xa0\\xa0\\xa0\\xa0\\xa0\\xa0\\xa0\\xa0\\xa0\\xa0\\xa0\\xa0\\xa0: r.subbarayudu@rguktrkv.ac.in \\n\\n\\n\\n\\n\\n\\n\\n\\n\\nMr. K.N.Koundinya Kumar\\nLab Technician\\t\\r\\n\\t\\t\\t\\t\\t\\t\\t\\t\\t\\tEducation\\xa0\\xa0\\xa0\\xa0\\xa0\\xa0\\xa0\\xa0\\xa0\\xa0: I.T.I & DIPLOMA IN Electronics \\r\\n\\t\\t\\t\\t\\tEmail\\xa0\\xa0\\xa0\\xa0\\xa0\\xa0\\xa0\\xa0\\xa0\\xa0\\xa0\\xa0\\xa0\\xa0\\xa0\\xa0: knkoundinyakumar@rguktrkv.ac.in \\n\\n\\n\\n\\n\\n\\n\\n\\n\\nMr. Kuruva Venkateswarulu\\nLab Technician\\t\\r\\n\\t\\t\\t\\t\\t\\t\\t\\t\\t\\tEducation\\xa0\\xa0\\xa0\\xa0\\xa0\\xa0\\xa0\\xa0\\xa0\\xa0: I.T.I & DIPLOMA IN Electronics \\r\\n\\t\\t\\t\\t\\tEmail\\xa0\\xa0\\xa0\\xa0\\xa0\\xa0\\xa0\\xa0\\xa0\\xa0\\xa0\\xa0\\xa0\\xa0\\xa0\\xa0: k.venkateswarulu@rguktrkv.ac.in \\n\\n\\n\\n\\n\\n\\n\\n\\n\\n\\n\\n\\n\\n\\n\\nHome |  Scroll to Top |  Feedback  |  Credits |  Contact Us \\xa0\\xa0\\xa0\\r\\n\\t\\t\\t\\n\\n\\n\\n\\n\\n\\n\\n\\n\\n\\nCopyright © 2010 Rajiv Gandhi University of Knowledge Technologies, All Rights Reserved; Send your Feedback/Comments to webmaster@rguktrkv.ac.in\\n\\n\\n\\n\\n\\n\\n\\n\\n\\n\",\n",
       " \"\\n\\n\\n\\n\\n\\n\\n\\n\\n\\n\\nECE - RK Valley :: RGUKT-AP\\n\\n\\n\\n\\n\\n\\n\\n\\n\\n\\n\\n\\n\\n\\n\\n\\n\\n\\n\\n\\nRajiv Gandhi University of Knowledge Technologies-Andhra Pradesh\\nRK Valley Institute\\n\\n(Constituted under the A.P Govt. Act 18 of 2008 and recognized as per Section 2(f), 12(B) of UGC Act, 1956) \\nAccredited by 'NAAC' with 'B+' Grade\\n\\n\\n\\n\\n\\n\\n\\n\\n\\n\\n\\nToggle navigation\\n\\n\\n\\n\\n\\n\\n\\n\\n\\n\\n\\nInstitute\\r\\n\\t\\t\\t\\t\\t\\t\\t  \\n\\n\\nAbout RGUKT\\nVision and Mission\\nBest Practices\\nOrganization Chart\\nStrategy Document\\nGoverning Council\\nAnnual Report\\nConvocation\\nOmbudsperson\\nNAAC Certificate\\nNIRF\\nUGC Status (12B)\\nUGC Status (2F)\\nUGC-NAD/ABC Cell\\nAICTE Mandatory Disclosure\\n\\n\\n\\n\\n\\nAcademics\\r\\n\\t\\t\\t\\t\\t\\t\\t  \\n\\n\\nAcademic Audit Reports\\n\\nMinutes of Academic Council Meetings\\nFaculty Ethics\\nAcademic Programmes\\nAcademic Regulations\\nAcademic Calendar\\nCurricula\\nDepartments\\nTime Table\\nExaminations\\n\\n\\n\\nAdministration\\r\\n\\t\\t\\t\\t\\t\\t\\t  \\n\\n\\nChancellor\\nVice Chancellor\\nDirector\\nAdministrative Officer\\nFinance Officer\\nEstablishment Section\\nDean of Academics\\nDean of Students Welfare\\nController of Examinations\\nAdministration\\n\\nSports Board\\nCommunication Directory\\n\\n\\n\\nFaculty\\r\\n\\t\\t\\t\\t\\t\\t\\t  \\n\\n\\nBio-Sciences\\nChemical Engineering\\nChemistry\\nCivil Engineering\\nComputer Science and Engineering\\nElectrical Engineering\\nElectronics and Communications Engineering\\nInformation Technology\\nMathematics\\nMechanical Engineering\\nMetallurgical & Materials Engineering\\nOther Departments\\n\\n\\n\\nAdmission\\r\\n\\t\\t\\t\\t\\t\\t\\t  \\n\\n\\nUG Admissions\\nPG Admissions\\nPh.D Admissions\\n\\n\\n\\nStudents\\r\\n\\t\\t\\t\\t\\t\\t\\t  \\n\\n\\nEducation at RGUKT\\nCareer Development Cell\\nIncubation Cell\\nInternational Desk\\nAnti Ragging\\nWomen's Cell\\nStudents' Welfare Office\\nAlumni Portal\\n\\n\\n\\nResearch\\r\\n\\t\\t\\t\\t\\t\\t\\t  \\n\\n\\nVision\\nResearch Head\\nEthics for Research\\nThrust Areas\\nResearch Guidelines\\nCollaboration MoU's\\nResearch and Advisory Committee\\n\\nDr.YSR Memorial Lecture Series\\n\\n1st Memorial Lecture\\n2nd Memorial Lecture\\n3rd Memorial Lecture\\n\\n\\n\\n\\nIQAC\\nPlacement Cell\\nLibrary\\nCareers\\nTenders\\nContact Us\\n\\n\\n\\n\\n\\n\\n\\n\\n\\nHome\\nAcademics Programmes\\nCurricula\\nElectronics and Communications Engineering\\n\\n\\n\\n\\nElectronics and Communications Engineering\\nList of Electives\\n\\n\\nBack to Previous Page\\n\\n\\n\\n\\nCurriculum of Electronics and Communications Engineering\\n\\n\\n\\n\\nCurriculum for the Academics Year 2020-21 ( 2020 Batch Students Onwards)\\n\\n\\nCurriculum for the Academics Year 2017-21 ( 2015 Batch Students )\\n\\n\\nCurriculum for the Academics Year 2016-20 ( 2014 Batch Students )\\n\\n\\nCurriculum for the Academics Year 2015-19 ( 2013 Batch Students )\\n\\n\\nCurriculum for the Academics Year 2014-18 ( 2012 Batch Students )\\n\\n\\nCurriculum for the Academics Year 2013-17 ( 2011 Batch Students )\\n\\n\\nCurriculum for the Academics Year 2012-16 ( 2010 Batch Students )\\n\\n\\n\\n\\n\\n\\n\\n\\n\\n\\n\\n\\n\\n\\n\\nHome |  Scroll to Top |  Feedback  |  Credits |  Contact Us \\xa0\\xa0\\xa0\\r\\n\\t\\t\\t\\n\\n\\n\\n\\n\\n\\n\\n\\n\\n\\nCopyright © 2010 Rajiv Gandhi University of Knowledge Technologies, All Rights Reserved; Send your Feedback/Comments to webmaster@rguktrkv.ac.in\\n\\n\\n\\n\\n\\n\\n\\n\\n\\n\",\n",
       " \"\\n\\n\\n\\n\\n\\n\\n\\n\\n\\n\\nHome - RK Valley :: RGUKT-AP\\n\\n\\n\\n\\n\\n\\n\\n\\n\\n\\n\\n\\n\\n\\n\\n\\n\\n\\n\\n\\nRajiv Gandhi University of Knowledge Technologies-Andhra Pradesh\\nRK Valley Institute\\n\\n(Constituted under the A.P Govt. Act 18 of 2008 and recognized as per Section 2(f), 12(B) of UGC Act, 1956) \\nAccredited by 'NAAC' with 'B+' Grade\\n\\n\\n\\n\\n\\n\\n\\n\\n\\n\\n\\nToggle navigation\\n\\n\\n\\n\\n\\n\\n\\n\\n\\n\\n\\nInstitute\\r\\n\\t\\t\\t\\t\\t\\t\\t  \\n\\n\\nAbout RGUKT\\nVision and Mission\\nBest Practices\\nOrganization Chart\\nStrategy Document\\nGoverning Council\\nAnnual Report\\nConvocation\\nOmbudsperson\\nNAAC Certificate\\nNIRF\\nUGC Status (12B)\\nUGC Status (2F)\\nUGC-NAD/ABC Cell\\nAICTE Mandatory Disclosure\\n\\n\\n\\n\\n\\nAcademics\\r\\n\\t\\t\\t\\t\\t\\t\\t  \\n\\n\\nAcademic Audit Reports\\n\\nMinutes of Academic Council Meetings\\nFaculty Ethics\\nAcademic Programmes\\nAcademic Regulations\\nAcademic Calendar\\nCurricula\\nDepartments\\nTime Table\\nExaminations\\n\\n\\n\\nAdministration\\r\\n\\t\\t\\t\\t\\t\\t\\t  \\n\\n\\nChancellor\\nVice Chancellor\\nDirector\\nAdministrative Officer\\nFinance Officer\\nEstablishment Section\\nDean of Academics\\nDean of Students Welfare\\nController of Examinations\\nAdministration\\n\\nSports Board\\nCommunication Directory\\n\\n\\n\\nFaculty\\r\\n\\t\\t\\t\\t\\t\\t\\t  \\n\\n\\nBio-Sciences\\nChemical Engineering\\nChemistry\\nCivil Engineering\\nComputer Science and Engineering\\nElectrical Engineering\\nElectronics and Communications Engineering\\nInformation Technology\\nMathematics\\nMechanical Engineering\\nMetallurgical & Materials Engineering\\nOther Departments\\n\\n\\n\\nAdmission\\r\\n\\t\\t\\t\\t\\t\\t\\t  \\n\\n\\nUG Admissions\\nPG Admissions\\nPh.D Admissions\\n\\n\\n\\nStudents\\r\\n\\t\\t\\t\\t\\t\\t\\t  \\n\\n\\nEducation at RGUKT\\nCareer Development Cell\\nIncubation Cell\\nInternational Desk\\nAnti Ragging\\nWomen's Cell\\nStudents' Welfare Office\\nAlumni Portal\\n\\n\\n\\nResearch\\r\\n\\t\\t\\t\\t\\t\\t\\t  \\n\\n\\nVision\\nResearch Head\\nEthics for Research\\nThrust Areas\\nResearch Guidelines\\nCollaboration MoU's\\nResearch and Advisory Committee\\n\\nDr.YSR Memorial Lecture Series\\n\\n1st Memorial Lecture\\n2nd Memorial Lecture\\n3rd Memorial Lecture\\n\\n\\n\\n\\nIQAC\\nPlacement Cell\\nLibrary\\nCareers\\nTenders\\nContact Us\\n\\n\\n\\n\\n\\n\\n ***Certificate of Accreditation for NAAC \\xa0\\xa0***   \\n\\n\\n\\n\\n\\n\\n\\n\\n\\n\\n\\n\\n\\n\\n\\n\\n\\n\\n\\n\\n\\n\\n\\n\\n\\n\\n\\n\\n\\n\\n\\n\\n\\n\\n\\n\\n\\n\\n\\n\\n\\n\\n\\n\\n\\n\\n\\n\\n\\n\\n\\n\\n\\n\\n\\n\\n\\n\\n\\n\\n\\nProf. M. Vijaya Kumar\\nVice-Chancellor (FAC)\\nProf. M. Vijaya Kumar, Rector, Jawaharlal Nehru Technological University Anantapur (JNTUA) has assumed charge as Vice-Chancellor In-Charge of Rajiv Gandhi University of Knowledge Technologies, A.P. on 20th January, 2023. He is an erudite professor, well-known teacher and eminent researcher who aspires to use science and technology to improve community life. \\n\\nmore....\\n\\n\\n\\nProf. A V S S Kumara Swami Gupta\\nDirector\\nDr Gupta has completed his Bachelor degree in Mechanical Engineering from JNTU College of Engineering, Anantapur in 1993, Masters degree in Mechanical Engineering from Regional Engineering College, Warangal (RECW) and Doctoral degree from Indian Institute of Technology, Kharagpur (IITKGP) in the year 1999.\\n\\nmore....\\n\\n\\n\\n\\n\\n\\n\\n\\n\\n\\n\\n\\n\\n\\n\\n\\n\\n\\n\\n\\n\\n\\n\\n\\n\\n\\n\\n\\n\\n\\n\\n\\n\\n\\n\\n\\n\\n\\n\\n\\n\\n\\n\\n\\n\\n\\n\\n\\n\\n\\n\\n\\n\\n\\n\\n\\n\\n\\n\\n\\n\\n\\n\\n\\n\\n\\n\\n\\n\\n\\n\\n\\n\\n\\n\\n\\nLatest News\\n\\n\\n(09.12.2024)\\xa0\\xa0Registrations for remedial exams for R08 to R16 batches students.  VISIT EXAMCELL\\n(05.11.2024)\\xa0\\xa0Advertisement for the post of Project Fellow under RUSA Project in Dept. of CIVIL\\n(02.11.2024)\\xa0\\xa0Advertisement for the post of Project Fellow under RUSA Project in Dept. of MME\\n(14.03.2024)\\xa0\\xa0Applications are invited for the Post of Residential Medical Officer (RMO) (Female) and Yoga Instructor for RGUKT RK Valley campus\\n(11.12.2023)\\xa0\\xa0Revised academic calendar for 2nd semester for the academic year 2023-24\\n(11.12.2023)\\xa0\\xa0Viksit Bharat @2047\\n\\n\\n\\n\\n\\n\\n\\n\\n\\n\\n\\n\\n\\nTenders\\n\\n\\n(19.09.2022)\\xa0\\xa0Notice inviting quotations for supplying of different items for RGUKT,RKValley(E-Procurement)\\n(20.05.2022)\\xa0\\xa0Notice inviting quotations for supply of medicines(Q36)\\n\\n\\n\\n\\n\\nEvents\\n\\n\\n(06.07.2022)\\xa0\\xa02nd Dr. YSR Memorial Lecture by Dr. Kota Harinarayana on Aircraft-Artificial Intelligence-Agriculture: The AAA Effect\\n(26.02.2022)\\xa0\\xa05th Convocation :: Video\\n\\n\\n\\n\\n\\n\\n\\n\\n\\n\\n\\n\\n\\n\\n\\nThe Institute\\n\\n\\n\\nAbout RGUKT\\nChancellor\\nVice Chancellor\\nDirector\\nGoverning Council\\n\\nAdministration\\nEstablishment Section\\nFaculty\\nSports Board\\nCommunication Directory\\nAnnual Reports\\nIQAC\\nRight to Information Act\\n\\n\\n\\n\\n\\nConvocation\\n\\n\\nSports Board\\n\\n\\n\\n\\nAcademics\\n\\n\\n\\nAcademic Programmes\\nUG Programme\\nPG Programme\\nResearch\\nAcademic Regulations\\nAcademic Calendar\\nPublications\\nCurricula\\nDepartments\\nTime Table\\nExaminations\\nSummer Programmes\\nAcademic Innovation\\n\\n\\n\\n\\n\\nExamination Cell\\n\\n\\nCE & HE Cell\\n\\n\\nOmbudsperson\\n\\n\\n\\n\\nStudents\\n\\n\\n\\nAdmissions\\nEducation at RGUKT\\n\\nCareer Development Cell\\nCE & HE Cell\\nOmbudsperson\\nInternational Desk\\nLibrary\\nSC/ST Cell\\nFacilities\\n\\nAnti Ragging\\nStudents' Welfare Office\\nNSS Activities\\nEvents & Activities\\nAchievements\\nAlumni Portal\\n\\n\\n\\n\\n\\nSC/ST Cell\\n\\n\\nAlumni Portal\\n\\n\\n\\n\\nQuick Links\\n\\n\\n\\nNAAC Certificate\\nNIRF\\nUGC Status (12B)\\nUGC Status (2F)\\nUGC-NAD/ABC Cell\\nAICTE Mandatory Disclosure\\n\\nCareers @ RK Valley\\nTenders & Quotations\\nInstitute Holiday List (2024)\\nInstitute Holiday List (2025)\\nPhoto Gallery\\nDownload Forms\\nOnline Payments\\xa0\\nEducational Details Verification\\nContact Us\\nLink to Other RGUKT Institutes\\nOnline Services for Voters\\n\\n\\n\\n\\n\\nPlacement Cell\\n\\n\\nOnline Payments\\n\\n\\n\\n\\n\\n\\n\\n\\n\\n\\nHome |  Scroll to Top |  Feedback  |  Credits |  Contact Us \\xa0\\xa0\\xa0\\r\\n\\t\\t\\t\\n\\n\\n\\n\\n\\n\\n\\n\\n\\n\\nCopyright © 2010 Rajiv Gandhi University of Knowledge Technologies, All Rights Reserved; Send your Feedback/Comments to webmaster@rguktrkv.ac.in\\n\\n\\n\\n\\n\\n\\n\\n\\n\\n\"]"
      ]
     },
     "execution_count": 14,
     "metadata": {},
     "output_type": "execute_result"
    }
   ],
   "source": [
    "page_contents"
   ]
  },
  {
   "cell_type": "markdown",
   "id": "83eff525-79fc-45f4-a00e-b2f9604cbacd",
   "metadata": {},
   "source": [
    "## Loading the data from pdf using documentloader(pypdfloader)"
   ]
  },
  {
   "cell_type": "code",
   "execution_count": 15,
   "id": "7fba51c0-62a5-4b07-bbe8-eecab4ff2382",
   "metadata": {},
   "outputs": [],
   "source": [
    "from langchain_community.document_loaders import PyPDFLoader\n",
    "\n",
    "# Initialize the loader for the PDF file\n",
    "loader = PyPDFLoader(\"C:\\\\Users\\\\Charan Akula\\\\Desktop\\\\Work Space\\\\scrapping\\\\ECE SYLLABUS.pdf\")\n",
    "\n",
    "# Create a list to store the loaded pages\n",
    "pages = []\n",
    "\n",
    "# Load the pages lazily\n",
    "for doc in loader.lazy_load():\n",
    "    pages.append(doc)\n",
    "##The lazy_load() method processes the document incrementally, loading and yielding one page at a time (or chunks of data).\n",
    "##It doesn't load the entire document into memory at once. Instead, it uses an iterator to load pages one by one as needed.\n",
    "##Memory Efficiency: Since it doesn't load the whole document into memory all at once, lazy_load() is more memory-efficient and is better suited for large documents.\n",
    "\n",
    "ece_syllabus = pages[10:18] ## loading data in 11 to 18 pages , use 10 instead of 11 in python file\n",
    "minor_ml=pages[249:252]\n"
   ]
  },
  {
   "cell_type": "code",
   "execution_count": 16,
   "id": "82b5d3c0-a2da-45d1-8cb6-216b3657df30",
   "metadata": {},
   "outputs": [],
   "source": [
    "#print(minor_ml)"
   ]
  },
  {
   "cell_type": "code",
   "execution_count": 17,
   "id": "1dc2e9ad-de54-402c-9118-33145bcce8e4",
   "metadata": {},
   "outputs": [],
   "source": [
    "pdf_data=ece_syllabus+minor_ml ## combining the data extracted from pdf"
   ]
  },
  {
   "cell_type": "code",
   "execution_count": 18,
   "id": "72e6322a-fb2c-45d3-b7f4-17715768ce4d",
   "metadata": {},
   "outputs": [
    {
     "name": "stdout",
     "output_type": "stream",
     "text": [
      "[Document(metadata={'source': 'C:\\\\Users\\\\Charan Akula\\\\Desktop\\\\Work Space\\\\scrapping\\\\ECE SYLLABUS.pdf', 'page': 10}, page_content='Rajiv Gandhi University of Knowledge Technologies - AP \\nDepartment of Electronics & Communications Engineering \\n \\n \\n11 \\n \\nChapter 2 \\nSemester-Wise Structure of Curriculum \\nMandatory Induction Program \\n \\n \\n \\n \\nENGINEERING FIRST YEAR: SEMESTER-1 \\nSLNO CATEGORY COURSE \\nCODE SUBJECT NAME L-T-P Credits \\n1 BSC 20MA1101 Differential Equations and \\nMultivariable calculus 3-1-0 4 \\n2 BSC 20PY1101 Engineering Physics 3-1-0 4 \\n3 BSC 20PY1181 Engineering Physics Lab 0-0-3 1.5 \\n4 PCC 20EC1203 Signals and Systems 3-1-0 \\n \\n4 \\n5 ESC 20EE1110 Electrical Technology 3-1-0 4 \\n6 ESC 20EE1180 Electrical Technology Lab 0-0-3 1.5 \\n7 ESC 20EC1102 Introduction to Latest Technical \\nAdvancements 1-0-0 1 \\n8 ESC 20CS1108 Programming & Data Structures 3-0-0 3 \\n9 ESC 20CS1188 Programming & Data Structures \\nLab 0-0-3 1.5 \\nTotal Credits 24.5 \\nTotal contact hours : 29 hours \\nPhysical activity \\nCreative Arts \\nUniversal Human Values \\nLiterary \\nProficiency Modules \\nLectures by Eminent people \\nVisit to local areas \\nFamiliarization of Dept./Branch Innovations \\n3 Weeks Duration '), Document(metadata={'source': 'C:\\\\Users\\\\Charan Akula\\\\Desktop\\\\Work Space\\\\scrapping\\\\ECE SYLLABUS.pdf', 'page': 11}, page_content='Rajiv Gandhi University of Knowledge Technologies - AP \\nDepartment of Electronics & Communications Engineering \\n \\n \\n12 \\n \\nENGINEERING FIRST YEAR: SEMESTER-2 \\nSLNO CATEGORY COURSE CODE SUBJECT NAME L-T-P Credits \\n1 BSC 20MA1201 Mathematical Methods 3-1-0 4 \\n2 ESC 20CS1209 Object Oriented Programming 2-0-0 2 \\n3 ESC 20CS1289 Object Oriented Programming \\nLaboratory 0-0-3 1.5 \\n4 ESC 20EC1285 Computational Lab 0-0-3 1.5 \\n5 HSC 20EG1281 English-Language \\nCommunication skills Lab-1 \\n1-0-3 2.5 \\n6 PCC 20EC1201 Electronic Devices and Circuits 3-1-0 4 \\n7 PCC 20EC1281 Electronic Devices and Circuits \\nLab \\n0-0-3 1.5 \\n8 PCC 20EE1211 Network Theory 3-1-0 4 \\n9 ESC 20CE1114 \\n \\nEngineering Graphics and \\nDesign \\n1-0-3 2.5 \\n      \\nTotal Credits 23.5 \\nTotal contact hours : 31 hours \\n \\n \\n \\nENGINEERING SECOND YEAR: SEMESTER-1 \\nSLNO CATEGORY COURSE CODE SUBJECT NAME L-T-P Credits \\n1 BSC 20MA2101 Probability & Random Variables 2-1-0 3 \\n2 ESC 20EC2185 Internet of Things Lab 0-0-3 1.5 \\n3 PCC 20EC2101 Analog Electronic Circuits 3-1-0 4 \\n4 PCC 20EC2181 Analog Electronic Circuits Lab 0-0-3 1.5 \\n5 PCC 20EC2102 Digital Logic Design 3-1-0 4 \\n6 PCC 20EC2182 Digital Logic Design Lab 0-0-3 1.5 \\n7 PCC 20EC2103 Digital Signal Processing 3-1-0 4 \\n8 PCC 20EC2183 Digital Signal Processing Lab 0-0-3 1.5 \\n9 PCC 20EE21XX Control Systems 3-0-0 3 \\nTotal Credits 24 \\nTotal contact hours: 30 hours '), Document(metadata={'source': 'C:\\\\Users\\\\Charan Akula\\\\Desktop\\\\Work Space\\\\scrapping\\\\ECE SYLLABUS.pdf', 'page': 12}, page_content='Rajiv Gandhi University of Knowledge Technologies - AP \\nDepartment of Electronics & Communications Engineering \\n \\n \\n13 \\n \\nENGINEERING SECOND YEAR: SEMESTER-2 \\nSLNO CATEGORY COURSE CODE SUBJECT NAME L-T-P Credits \\n1 ESC 20EC2285 Robotics Laboratory 1-0-3 2.5 \\n2 PCC 20EC2201 Communication Systems-1 3-1-0 4 \\n3 PCC 20EC2281 Communication Systems-1 Lab 0-0-3 1.5 \\n4 PCC 20EC2202 Digital System Design 3-1-0 4 \\n5 PCC 20EC2282 Digital System Design Lab 0-0-3 1.5 \\n6 PCC 20EC2203 Linear Integrated Circuits 3-1-0 4 \\n7 PCC 20EC2283 Linear Integrated Circuits Lab 0-0-3 1.5 \\n8 PCC 20EC2204 Electromagnetic Waves & \\nGuided Media 3-1-0 4 \\nTotal Credits 23 \\nTotal contact hours : 29 hours \\n \\n \\nENGINEERING THIRD YEAR: SEMESTER-1 \\nSLNO CATEGORY COURSE CODE SUBJECT NAME L-T-P Credits \\n1 ESC 20EC3102 Computer Networks 3-0-0 3 \\n2 ESC 20EC3103 Computer Organization & \\nArchitecture 3-1-0 4 \\n3 HSC 20EG3182 English-Language \\nCommunication skills Lab-2 \\n0-0-3 1.5 \\n4 PCC 20EC3101 Communication Systems- 2 3-1-0 4 \\n5 PCC 20EC3181 Communication Systems -2 \\nLab 0-0-3 1.5 \\n \\n6 \\n \\nPCC \\n \\n20EC3182 \\nMicroprocessors, \\nMicrocontrollers & Computer \\nNetworks Lab \\n \\n0-0-3 \\n \\n1.5 \\n7 PCC 20EC3185 Radio Frequency & Microwave \\nEngg. Lab 1-0-3 2.5 \\n8 PROJ 20EC3190 Mini-Project-I \\n(Socially Relevant Project) 0-0-2 1 \\nTotal Credits 19 \\nMC 20HS3101 Indian Constitution 2-0-0 0 \\nTotal contact hours: 25 hours \\n*Mini Project-1 workload not included in above workload calculation '), Document(metadata={'source': 'C:\\\\Users\\\\Charan Akula\\\\Desktop\\\\Work Space\\\\scrapping\\\\ECE SYLLABUS.pdf', 'page': 13}, page_content='Rajiv Gandhi University of Knowledge Technologies - AP \\nDepartment of Electronics & Communications Engineering \\n \\n \\n14 \\n \\nENGINEERING THIRD YEAR: SEMESTER-2 \\nSLNO CATEGORY COURSE CODE SUBJECT NAME L-T-P Credits \\n1 HSC 20EG3283 English-Language \\nCommunication skills Lab-3 \\n0-0-3 1.5 \\n2 HSC 20BMXY01 Product Design & Innovation 1-0-0 1 \\n3 PEC 20EC32XX Elective-1 3-0-0 3 \\n4 PEC 20EC32XX Elective-2 3-0-0 3 \\n5 OEC 20XX32XX Open Elective-1 3-0-0 3 \\n6 OEC 20XX32XX Open Elective-2 3-0-0 3 \\n7 PROJ 20EC3291 Mini Project-II 0-0-3 1.5 \\nTotal Credits 16 \\nMC 20MC3201 Career Development Course 2-0-0 0 \\nTotal contact hours : 18 hours \\n*Mini Project-2 work load not included in above calculation \\n \\nENGINEERING FOURTH YEAR: SEMESTER-1 \\nSLNO CATEGORY COURSE CODE SUBJECT NAME L-T-P Credits \\n1 PEC 20EC41XX Elective-3 3-0-0 3 \\n2 PEC 20EC41XX Elective-4 3-0-0 3 \\n3 OEC 20XX41XX Open Elective-3 3-0-0 3 \\n4 PROJ 20EC4192 Summer Internship Project 0-0-6 3 \\n5 PROJ 20EC4193 Project I 0-0-8 4 \\nTotal Credits 16 \\nMC 20BE4101 Environmental Science 2-0-0 0 \\nTotal contact hours : 11 hours \\n*Project-1 work load not included in above calculation \\n*Summer Internship Project will be after completion of Engineering Third Year Semester-2 \\n \\nENGINEERING FOURTH YEAR: SEMESTER -2 \\nSLNO CATEGORY COURSE CODE SUBJECT NAME L-T-P Credits \\n1 HSC 20HS4299 Community Service 0-0-4 2 \\n3 PEC 20EC42XX Elective-5 3-0-0 3 \\n5 OEC 20XX42XX Open Elective-4 3-0-0 3 \\n6 PROJ 20EC4294 Project-II & Dissertation 0-0-12 6 \\nTotal Credits 14 \\nTotal contact hours : 6 hours \\n*Project-2 and Community Service work load not included in above calculation '), Document(metadata={'source': 'C:\\\\Users\\\\Charan Akula\\\\Desktop\\\\Work Space\\\\scrapping\\\\ECE SYLLABUS.pdf', 'page': 14}, page_content='Rajiv Gandhi University of Knowledge Technologies - AP \\nDepartment of Electronics & Communications Engineering \\n \\n \\n15 \\n \\nList of Program Electives Courses/ Open Elective Courses \\n \\n \\n \\nProgram Elective Courses \\nCommunication Stream \\n20ECXY01:Advanced Digital Communications \\n20ECXY02:Antenna and Radio wave propagation \\n20ECXY03:Cooperative Communications \\n20ECXY04:Design of Microwave systems \\n20ECXY05:Detection and Estimation Theory \\n20ECXY06:Error Correcting Codes \\n20ECXY07:Information Theory and Coding \\n20ECXY08:Millimeter wave Technology \\n20ECXY09:Optical Communications \\n20ECXY10:Principles of RADAR \\n20ECXY11:Radio Frequency and Microwave Engineering \\n20ECXY12:Satellite Communications \\n20ECXY13:Wireless Communications \\n \\nSignal Processing Stream \\n20ECXY14:Advanced Digital Signal Processing \\n20ECXY15:Artificial Neural Networks \\n20ECXY16:Biomedical Signal Processing \\n20ECXY17:Digital Image Processing \\n20ECXY18:Digital Voice and Picture Communication '), Document(metadata={'source': 'C:\\\\Users\\\\Charan Akula\\\\Desktop\\\\Work Space\\\\scrapping\\\\ECE SYLLABUS.pdf', 'page': 15}, page_content='Rajiv Gandhi University of Knowledge Technologies - AP \\nDepartment of Electronics & Communications Engineering \\n \\n \\n16 \\n \\n20ECXY19:Estimation of Signals and Systems \\n20ECXY20:Medical Image Analysis \\n20ECXY21:Pattern Recognition and applications \\n20ECXY55: Adapative Signal Processing \\n \\n20ECXY56: Introduction to Deep Learning \\nVLSI and Embedded systems Stream \\n20ECXY22:Analog IC Design \\n20ECXY23:Digital IC Design \\n20ECXY24:Digital VLSI System Design \\n20ECXY25:Electronic System Packaging \\n20ECXY26:Embedded Systems \\n20ECXY27:Embedded System Software Testing \\n20ECXY28:FPGA based System Design \\n20ECXY29:Low Power Circuits and Systems \\n20ECXY30:MEMS and Microsystems \\n20ECXY31:RF IC Design \\n20ECXY32:Systemverilog \\n20ECXY33:VLSI DSP \\n20ECXY34:VLSI Physical Design \\n20ECXY35:VLSI Testing and Verification \\nOpenElectiveCourses (Offered to other departments) \\n20ECXY50:Artificial Intelligence \\n20ECXY51:Computational science and Engineering using Python '), Document(metadata={'source': 'C:\\\\Users\\\\Charan Akula\\\\Desktop\\\\Work Space\\\\scrapping\\\\ECE SYLLABUS.pdf', 'page': 16}, page_content='Rajiv Gandhi University of Knowledge Technologies - AP \\nDepartment of Electronics & Communications Engineering \\n \\n \\n17 \\n \\n20ECXY52:Linux Programming and Scripting \\n20ECXY53:Machine Learning \\n 20ECXY54:Robotics Operating System: Drones \\n 20ECXY57: Electronic Measurements and Instrumentation \\n \\n '), Document(metadata={'source': 'C:\\\\Users\\\\Charan Akula\\\\Desktop\\\\Work Space\\\\scrapping\\\\ECE SYLLABUS.pdf', 'page': 17}, page_content='Rajiv Gandhi University of Knowledge Technologies - AP \\nDepartment of Electronics & Communications Engineering \\n \\n \\n18 \\n \\n \\n \\nCOURSES BEING OFFERED TO OTHER DEPARTMENTS \\n \\n \\nCOURSE CODE SUBJECT NAME L-T-P CREDITS BRANCHES \\n20ECXX10 Digital Logic Design 3-0-0 3 CSE \\n20ECXX80 Digital Logic Design Laboratory 0-0-3 1.5 CSE \\n \\n \\nCSE: Department of Computer Science and Engineering  '), Document(metadata={'source': 'C:\\\\Users\\\\Charan Akula\\\\Desktop\\\\Work Space\\\\scrapping\\\\ECE SYLLABUS.pdf', 'page': 249}, page_content='Rajiv Gandhi University of Knowledge Technologies - AP \\nDepartment of Electronics & Communications Engineering \\n \\n \\n249 \\n \\n \\n \\n \\nRajiv Gandhi University of Knowledge Technologies \\nCOURSE STRUCTURE AND DETAILED SYLLABI FOR THE B.TECH PROGRAM \\n(MINOR DEGREE IN MACHINE LEARNING) IN ELECTRONICS AND \\nCOMMUNICATION ENGINEERING \\n(EFFECTIVE FROM THE BATCHES ADMITTED IN 2019-20) \\n \\n \\n \\n \\n \\n \\nIndex \\n1. Introduction \\n2. Course Structure \\n3. Eligibility \\n4. Syllabus  \\n \\n \\n \\n \\n \\n \\n \\n \\n \\n \\n \\n \\n \\n'), Document(metadata={'source': 'C:\\\\Users\\\\Charan Akula\\\\Desktop\\\\Work Space\\\\scrapping\\\\ECE SYLLABUS.pdf', 'page': 250}, page_content='Rajiv Gandhi University of Knowledge Technologies - AP \\nDepartment of Electronics & Communications Engineering \\n \\n \\n250 \\n \\n \\nIntroduction & Background \\n \\nArtificial Intelligence is the simulation of the human process by machines. Artificial intelligence and machine \\nlearning are rapidly changing our world and empowering the Fourth Industrial Revolution. ML can solve \\nmany real world problems in the fields of Computers, Electronics, communications, signal processing to name \\na few. Since the last decade it is receiving growing attention globally both from industries and academia. \\nHence there is a need to introduce and make expertise in this domain to the students to compet e with the \\ncontemporary world with the help of this trending technology. \\nOur goal with minor in ML is to: \\n \\n1. Train the students to get expertise in the relevant areas of MLand make them industry ready. \\n2. Increase the placements by targeting the ample number of industries working with AI & ML \\n3. Contribute towards Research through publications in ML, as most of the accepted research works in      \\nEC and CS are based on AI and ML. \\n4. Establishing research labs in collaboration with industries and MoUs with other reputed national \\nand international institutions. \\n5. Encourage Innovation and entrepreneurship in AI. \\n \\nThe objective of this Request for Proposal is to locate a source that will provide the best overall value to \\nRGUKT RK Valley.  \\n \\n \\n \\n \\n \\n \\n \\n \\n \\n \\n \\n \\n \\n \\n \\n \\n \\n \\n \\n \\n'), Document(metadata={'source': 'C:\\\\Users\\\\Charan Akula\\\\Desktop\\\\Work Space\\\\scrapping\\\\ECE SYLLABUS.pdf', 'page': 251}, page_content='Rajiv Gandhi University of Knowledge Technologies - AP \\nDepartment of Electronics & Communications Engineering \\n \\n \\n251 \\n \\n \\n \\nCourse Structure \\n \\n \\nS.No Title of the course credits Prerequisite \\nE3 Semester-I \\n1 20ECM101 Mathematical foundations \\nfor ML \\n4 Probability theory(20MA2101) \\nE3 Semester-II \\n2 20ECM102 Foundations of \\nprogramming for ML \\n4 PDS(20CS1109) \\n3 20ECM103 Machine Learning 4  \\nE4 Semester-I \\n4 20ECM104 Introduction to Deep \\nlearning \\n4  \\nE4 Semester-II \\n5 20ECM1xx ML Elective-1 4  \\nTotal credits 20  \\n \\n \\n \\n \\n \\n \\n \\n \\n \\n \\n')]\n"
     ]
    }
   ],
   "source": [
    "print(pdf_data)"
   ]
  },
  {
   "cell_type": "markdown",
   "id": "fcb8332c-f871-428c-954e-10f373dbd4e4",
   "metadata": {},
   "source": [
    "## Splitting the data into chunks "
   ]
  },
  {
   "cell_type": "code",
   "execution_count": 19,
   "id": "2e05cdab-a810-4361-a446-4a6f44e4620f",
   "metadata": {},
   "outputs": [],
   "source": [
    "overalldata=webdata+pdf_data"
   ]
  },
  {
   "cell_type": "code",
   "execution_count": 20,
   "id": "e4fb9c17-0c5e-400e-968f-a1577c5b44af",
   "metadata": {},
   "outputs": [],
   "source": [
    "page_contents = [doc.page_content for doc in overalldata]"
   ]
  },
  {
   "cell_type": "code",
   "execution_count": 21,
   "id": "96a038e9-1f6b-43cc-8d57-a6ebdc02bdd9",
   "metadata": {
    "scrolled": true
   },
   "outputs": [
    {
     "name": "stdout",
     "output_type": "stream",
     "text": [
      "[\"\\n\\n\\n\\n\\n\\n\\n\\n\\n\\n\\nElectronics and Communication Engg - RK Valley :: RGUKT-AP\\n\\n\\n\\n\\n\\n\\n\\n\\n\\n\\n\\n\\n\\n\\n\\n\\n\\n\\n\\n\\nRajiv Gandhi University of Knowledge Technologies-Andhra Pradesh\\nRK Valley Institute\\n\\n(Constituted under the A.P Govt. Act 18 of 2008 and recognized as per Section 2(f), 12(B) of UGC Act, 1956) \\nAccredited by 'NAAC' with 'B+' Grade\\n\\n\\n\\n\\n\\n\\n\\n\\n\\n\\n\\nToggle navigation\\n\\n\\n\\n\\n\\n\\n\\n\\n\\n\\n\\nInstitute\\r\\n\\t\\t\\t\\t\\t\\t\\t  \\n\\n\\nAbout RGUKT\\nVision and Mission\\nBest Practices\\nOrganization Chart\\nStrategy Document\\nGoverning Council\\nAnnual Report\\nConvocation\\nOmbudsperson\\nNAAC Certificate\\nNIRF\\nUGC Status (12B)\\nUGC Status (2F)\\nUGC-NAD/ABC Cell\\nAICTE Mandatory Disclosure\\n\\n\\n\\n\\n\\nAcademics\\r\\n\\t\\t\\t\\t\\t\\t\\t  \\n\\n\\nAcademic Audit Reports\\n\\nMinutes of Academic Council Meetings\\nFaculty Ethics\\nAcademic Programmes\\nAcademic Regulations\\nAcademic Calendar\\nCurricula\\nDepartments\\nTime Table\\nExaminations\\n\\n\\n\\nAdministration\\r\\n\\t\\t\\t\\t\\t\\t\\t  \\n\\n\\nChancellor\\nVice Chancellor\\nDirector\\nAdministrative Officer\\nFinance Officer\\nEstablishment Section\\nDean of Academics\\nDean of Students Welfare\\nController of Examinations\\nAdministration\\n\\nSports Board\\nCommunication Directory\\n\\n\\n\\nFaculty\\r\\n\\t\\t\\t\\t\\t\\t\\t  \\n\\n\\nBio-Sciences\\nChemical Engineering\\nChemistry\\nCivil Engineering\\nComputer Science and Engineering\\nElectrical Engineering\\nElectronics and Communications Engineering\\nInformation Technology\\nMathematics\\nMechanical Engineering\\nMetallurgical & Materials Engineering\\nOther Departments\\n\\n\\n\\nAdmission\\r\\n\\t\\t\\t\\t\\t\\t\\t  \\n\\n\\nUG Admissions\\nPG Admissions\\nPh.D Admissions\\n\\n\\n\\nStudents\\r\\n\\t\\t\\t\\t\\t\\t\\t  \\n\\n\\nEducation at RGUKT\\nCareer Development Cell\\nIncubation Cell\\nInternational Desk\\nAnti Ragging\\nWomen's Cell\\nStudents' Welfare Office\\nAlumni Portal\\n\\n\\n\\nResearch\\r\\n\\t\\t\\t\\t\\t\\t\\t  \\n\\n\\nVision\\nResearch Head\\nEthics for Research\\nThrust Areas\\nResearch Guidelines\\nCollaboration MoU's\\nResearch and Advisory Committee\\n\\nDr.YSR Memorial Lecture Series\\n\\n1st Memorial Lecture\\n2nd Memorial Lecture\\n3rd Memorial Lecture\\n\\n\\n\\n\\nIQAC\\nPlacement Cell\\nLibrary\\nCareers\\nTenders\\nContact Us\\n\\n\\n\\n\\n\\n\\n\\n\\n\\nHome\\nDepartments\\nElectronics and Communication Engg\\nFaculty\\n\\n\\n\\n\\n\\xa0\\xa0Electronics and Communication Engg\\nFaculty\\nStaff\\nFacilities\\nBoard of Studies\\nContacts\\n\\n\\nBack to Previous Page\\n\\n\\n\\n\\nDepartment of Electronics and Communication Engg\\n\\n\\r\\n\\t\\t\\tFaculty Members\\t\\t\\n\\n\\n\\n\\n\\n\\n\\nMr. Y Arun Kumar Reddy\\nAssistant Professor\\nResponsibilities : Head of the Department\\t\\r\\n\\t\\t\\t\\t\\t\\t\\t\\t\\t\\tEducation\\xa0\\xa0\\xa0\\xa0\\xa0\\xa0\\xa0\\xa0\\xa0\\xa0: M.Tech (IIT Kharagpur) \\r\\n\\t\\t\\t\\t\\tEmail\\xa0\\xa0\\xa0\\xa0\\xa0\\xa0\\xa0\\xa0\\xa0\\xa0\\xa0\\xa0\\xa0\\xa0\\xa0\\xa0: hodece@rguktrkv.ac.in, yarunkumarreddy@rguktrkv.ac.in \\n\\nView profile ...\\n\\n\\n\\n\\n\\n\\n\\n\\nMr. B. V. Sudhakar Reddy\\nAssistant Professor\\t\\r\\n\\t\\t\\t\\t\\t\\t\\t\\t\\t\\tEducation\\xa0\\xa0\\xa0\\xa0\\xa0\\xa0\\xa0\\xa0\\xa0\\xa0: M.Tech (IIT Kharagpur) \\r\\n\\t\\t\\t\\t\\tEmail\\xa0\\xa0\\xa0\\xa0\\xa0\\xa0\\xa0\\xa0\\xa0\\xa0\\xa0\\xa0\\xa0\\xa0\\xa0\\xa0: sudhakar@rguktrkv.ac.in \\n\\nView profile ...\\n\\n\\n\\n\\n\\n\\n\\n\\nDr. SK Mahammad Rafi\\nAssistant Professor\\nResponsibilities : Coordinator for Alumni\\t\\r\\n\\t\\t\\t\\t\\t\\t\\t\\t\\t\\tEducation\\xa0\\xa0\\xa0\\xa0\\xa0\\xa0\\xa0\\xa0\\xa0\\xa0: M.Tech (JNTU Hyderabad), Ph.D (IIT Hyderabad) \\r\\n\\t\\t\\t\\t\\tEmail\\xa0\\xa0\\xa0\\xa0\\xa0\\xa0\\xa0\\xa0\\xa0\\xa0\\xa0\\xa0\\xa0\\xa0\\xa0\\xa0: rafi@rguktrkv.ac.in \\n\\nView profile ...\\n\\n\\n\\n\\n\\n\\n\\n\\nMs. G. Lakshmi Shireesha\\nAssistant Professor\\t\\r\\n\\t\\t\\t\\t\\t\\t\\t\\t\\t\\tEducation\\xa0\\xa0\\xa0\\xa0\\xa0\\xa0\\xa0\\xa0\\xa0\\xa0: M.Tech (NIT-Trichy) \\r\\n\\t\\t\\t\\t\\tEmail\\xa0\\xa0\\xa0\\xa0\\xa0\\xa0\\xa0\\xa0\\xa0\\xa0\\xa0\\xa0\\xa0\\xa0\\xa0\\xa0: glakshmishireesha@rguktrkv.ac.in \\n\\nView profile ...\\n\\n\\n\\n\\n\\n\\n\\n\\nMr. K. Abdul Munaf\\nAssistant Professor\\t\\r\\n\\t\\t\\t\\t\\t\\t\\t\\t\\t\\tEducation\\xa0\\xa0\\xa0\\xa0\\xa0\\xa0\\xa0\\xa0\\xa0\\xa0: M.Tech \\r\\n\\t\\t\\t\\t\\tEmail\\xa0\\xa0\\xa0\\xa0\\xa0\\xa0\\xa0\\xa0\\xa0\\xa0\\xa0\\xa0\\xa0\\xa0\\xa0\\xa0: kabdulmunaf@rguktrkv.ac.in \\n\\nView profile ...\\n\\n\\n\\n\\n\\n\\n\\n\\nMr. N Mohan Raju\\nAssistant Professor\\t\\r\\n\\t\\t\\t\\t\\t\\t\\t\\t\\t\\tEducation\\xa0\\xa0\\xa0\\xa0\\xa0\\xa0\\xa0\\xa0\\xa0\\xa0: M.Tech \\r\\n\\t\\t\\t\\t\\tEmail\\xa0\\xa0\\xa0\\xa0\\xa0\\xa0\\xa0\\xa0\\xa0\\xa0\\xa0\\xa0\\xa0\\xa0\\xa0\\xa0: nmohanraju@rguktrkv.ac.in \\n\\nView profile ...\\n\\n\\n\\n\\n\\n\\n\\n\\nMrs. M. Anitha\\nAssistant Professor\\t\\r\\n\\t\\t\\t\\t\\t\\t\\t\\t\\t\\tEducation\\xa0\\xa0\\xa0\\xa0\\xa0\\xa0\\xa0\\xa0\\xa0\\xa0: M.Tech \\r\\n\\t\\t\\t\\t\\tEmail\\xa0\\xa0\\xa0\\xa0\\xa0\\xa0\\xa0\\xa0\\xa0\\xa0\\xa0\\xa0\\xa0\\xa0\\xa0\\xa0: manitha@rguktrkv.ac.in \\n\\nView profile ...\\n\\n\\n\\n\\n\\n\\n\\n\\nMr. P Janardhan Reddy\\nAssistant Professor\\t\\r\\n\\t\\t\\t\\t\\t\\t\\t\\t\\t\\tEducation\\xa0\\xa0\\xa0\\xa0\\xa0\\xa0\\xa0\\xa0\\xa0\\xa0: M.Tech \\r\\n\\t\\t\\t\\t\\tEmail\\xa0\\xa0\\xa0\\xa0\\xa0\\xa0\\xa0\\xa0\\xa0\\xa0\\xa0\\xa0\\xa0\\xa0\\xa0\\xa0: janardhanreddy@rguktrkv.ac.in \\n\\nView profile ...\\n\\n\\n\\n\\n\\n\\n\\n\\nMr. P. Siva Krishna\\nAssistant Professor\\t\\r\\n\\t\\t\\t\\t\\t\\t\\t\\t\\t\\tEducation\\xa0\\xa0\\xa0\\xa0\\xa0\\xa0\\xa0\\xa0\\xa0\\xa0: M.Tech \\r\\n\\t\\t\\t\\t\\tEmail\\xa0\\xa0\\xa0\\xa0\\xa0\\xa0\\xa0\\xa0\\xa0\\xa0\\xa0\\xa0\\xa0\\xa0\\xa0\\xa0: psivakrishna@rguktrkv.ac.in\\r \\n\\nView profile ...\\n\\n\\n\\n\\n\\n\\n\\n\\nMrs. V Lakshmi Prasanna\\nAssistant Professor\\t\\r\\n\\t\\t\\t\\t\\t\\t\\t\\t\\t\\tEducation\\xa0\\xa0\\xa0\\xa0\\xa0\\xa0\\xa0\\xa0\\xa0\\xa0: M.Tech \\r\\n\\t\\t\\t\\t\\tEmail\\xa0\\xa0\\xa0\\xa0\\xa0\\xa0\\xa0\\xa0\\xa0\\xa0\\xa0\\xa0\\xa0\\xa0\\xa0\\xa0:  \\n\\nView profile ...\\n\\n\\n\\n\\n\\n\\n\\n\\nMr. T Naresh\\nAssistant Professor\\t\\r\\n\\t\\t\\t\\t\\t\\t\\t\\t\\t\\tEducation\\xa0\\xa0\\xa0\\xa0\\xa0\\xa0\\xa0\\xa0\\xa0\\xa0: M.Tech \\r\\n\\t\\t\\t\\t\\tEmail\\xa0\\xa0\\xa0\\xa0\\xa0\\xa0\\xa0\\xa0\\xa0\\xa0\\xa0\\xa0\\xa0\\xa0\\xa0\\xa0: talarinaresh777@rguktrkv.ac.in \\n\\nView profile ...\\n\\n\\n\\n\\n\\n\\n\\n\\nMr. B Madhan Mohan\\nAssistant Professor\\t\\r\\n\\t\\t\\t\\t\\t\\t\\t\\t\\t\\tEducation\\xa0\\xa0\\xa0\\xa0\\xa0\\xa0\\xa0\\xa0\\xa0\\xa0: M.Tech \\r\\n\\t\\t\\t\\t\\tEmail\\xa0\\xa0\\xa0\\xa0\\xa0\\xa0\\xa0\\xa0\\xa0\\xa0\\xa0\\xa0\\xa0\\xa0\\xa0\\xa0: madhan.betharaju@rguktrkv.ac.in \\n\\nView profile ...\\n\\n\\n\\n\\n\\n\\n\\n\\nMr. B Mohan Reddy\\nAssistant Professor\\t\\r\\n\\t\\t\\t\\t\\t\\t\\t\\t\\t\\tEducation\\xa0\\xa0\\xa0\\xa0\\xa0\\xa0\\xa0\\xa0\\xa0\\xa0: M.Tech \\r\\n\\t\\t\\t\\t\\tEmail\\xa0\\xa0\\xa0\\xa0\\xa0\\xa0\\xa0\\xa0\\xa0\\xa0\\xa0\\xa0\\xa0\\xa0\\xa0\\xa0: bmohan4031@rguktrkv.ac.in \\n\\nView profile ...\\n\\n\\n\\n\\n\\n\\n\\n\\nMr. R. Pavan kumar\\nAssistant Professor\\t\\r\\n\\t\\t\\t\\t\\t\\t\\t\\t\\t\\tEducation\\xa0\\xa0\\xa0\\xa0\\xa0\\xa0\\xa0\\xa0\\xa0\\xa0: M.Tech \\r\\n\\t\\t\\t\\t\\tEmail\\xa0\\xa0\\xa0\\xa0\\xa0\\xa0\\xa0\\xa0\\xa0\\xa0\\xa0\\xa0\\xa0\\xa0\\xa0\\xa0: rpavankumar@rguktrkv.ac.in \\n\\nView profile ...\\n\\n\\n\\n\\n\\n\\n\\n\\nSHAIK RIAZUM\\nAssistant Professor\\t\\r\\n\\t\\t\\t\\t\\t\\t\\t\\t\\t\\tEducation\\xa0\\xa0\\xa0\\xa0\\xa0\\xa0\\xa0\\xa0\\xa0\\xa0: M.TECH \\r\\n\\t\\t\\t\\t\\tEmail\\xa0\\xa0\\xa0\\xa0\\xa0\\xa0\\xa0\\xa0\\xa0\\xa0\\xa0\\xa0\\xa0\\xa0\\xa0\\xa0: riazunshaik@rguktrkv.ac.in \\n\\nView profile ...\\n\\n\\n\\n\\n\\n\\n\\n\\nMr. KRISHNAM HARINATHA REDDY\\nAssistant Professor\\t\\r\\n\\t\\t\\t\\t\\t\\t\\t\\t\\t\\tEducation\\xa0\\xa0\\xa0\\xa0\\xa0\\xa0\\xa0\\xa0\\xa0\\xa0: M.Tech \\r\\n\\t\\t\\t\\t\\tEmail\\xa0\\xa0\\xa0\\xa0\\xa0\\xa0\\xa0\\xa0\\xa0\\xa0\\xa0\\xa0\\xa0\\xa0\\xa0\\xa0: harinathreddy108@rguktrkv.ac.in \\n\\nView profile ...\\n\\n\\n\\n\\n\\n\\n\\n\\nMr. SAFARI BHASKAR RAO\\nAssistant Professor\\t\\r\\n\\t\\t\\t\\t\\t\\t\\t\\t\\t\\tEducation\\xa0\\xa0\\xa0\\xa0\\xa0\\xa0\\xa0\\xa0\\xa0\\xa0: M.Tech \\r\\n\\t\\t\\t\\t\\tEmail\\xa0\\xa0\\xa0\\xa0\\xa0\\xa0\\xa0\\xa0\\xa0\\xa0\\xa0\\xa0\\xa0\\xa0\\xa0\\xa0: sfrsonu6@rguktrkv.ac.in \\n\\nView profile ...\\n\\n\\n\\n\\n\\n\\n\\n\\nS. Venkatesulu\\nAssistant Professor\\t\\r\\n\\t\\t\\t\\t\\t\\t\\t\\t\\t\\tEducation\\xa0\\xa0\\xa0\\xa0\\xa0\\xa0\\xa0\\xa0\\xa0\\xa0: M.Tech \\r\\n\\t\\t\\t\\t\\tEmail\\xa0\\xa0\\xa0\\xa0\\xa0\\xa0\\xa0\\xa0\\xa0\\xa0\\xa0\\xa0\\xa0\\xa0\\xa0\\xa0: v.sugali7@rguktrkv.ac.in \\n\\nView profile ...\\n\\n\\n\\n\\n\\n\\n\\n\\n\\n\\n\\n\\n\\n\\nHome |  Scroll to Top |  Feedback  |  Credits |  Contact Us \\xa0\\xa0\\xa0\\r\\n\\t\\t\\t\\n\\n\\n\\n\\n\\n\\n\\n\\n\\n\\nCopyright © 2010 Rajiv Gandhi University of Knowledge Technologies, All Rights Reserved; Send your Feedback/Comments to webmaster@rguktrkv.ac.in\\n\\n\\n\\n\\n\\n\\n\\n\\n\\n\", \"\\n\\n\\n\\n\\n\\n\\n\\n\\n\\n\\nElectronics and Communication Engg - RK Valley :: RGUKT-AP\\n\\n\\n\\n\\n\\n\\n\\n\\n\\n\\n\\n\\n\\n\\n\\n\\n\\n\\n\\n\\nRajiv Gandhi University of Knowledge Technologies-Andhra Pradesh\\nRK Valley Institute\\n\\n(Constituted under the A.P Govt. Act 18 of 2008 and recognized as per Section 2(f), 12(B) of UGC Act, 1956) \\nAccredited by 'NAAC' with 'B+' Grade\\n\\n\\n\\n\\n\\n\\n\\n\\n\\n\\n\\nToggle navigation\\n\\n\\n\\n\\n\\n\\n\\n\\n\\n\\n\\nInstitute\\r\\n\\t\\t\\t\\t\\t\\t\\t  \\n\\n\\nAbout RGUKT\\nVision and Mission\\nBest Practices\\nOrganization Chart\\nStrategy Document\\nGoverning Council\\nAnnual Report\\nConvocation\\nOmbudsperson\\nNAAC Certificate\\nNIRF\\nUGC Status (12B)\\nUGC Status (2F)\\nUGC-NAD/ABC Cell\\nAICTE Mandatory Disclosure\\n\\n\\n\\n\\n\\nAcademics\\r\\n\\t\\t\\t\\t\\t\\t\\t  \\n\\n\\nAcademic Audit Reports\\n\\nMinutes of Academic Council Meetings\\nFaculty Ethics\\nAcademic Programmes\\nAcademic Regulations\\nAcademic Calendar\\nCurricula\\nDepartments\\nTime Table\\nExaminations\\n\\n\\n\\nAdministration\\r\\n\\t\\t\\t\\t\\t\\t\\t  \\n\\n\\nChancellor\\nVice Chancellor\\nDirector\\nAdministrative Officer\\nFinance Officer\\nEstablishment Section\\nDean of Academics\\nDean of Students Welfare\\nController of Examinations\\nAdministration\\n\\nSports Board\\nCommunication Directory\\n\\n\\n\\nFaculty\\r\\n\\t\\t\\t\\t\\t\\t\\t  \\n\\n\\nBio-Sciences\\nChemical Engineering\\nChemistry\\nCivil Engineering\\nComputer Science and Engineering\\nElectrical Engineering\\nElectronics and Communications Engineering\\nInformation Technology\\nMathematics\\nMechanical Engineering\\nMetallurgical & Materials Engineering\\nOther Departments\\n\\n\\n\\nAdmission\\r\\n\\t\\t\\t\\t\\t\\t\\t  \\n\\n\\nUG Admissions\\nPG Admissions\\nPh.D Admissions\\n\\n\\n\\nStudents\\r\\n\\t\\t\\t\\t\\t\\t\\t  \\n\\n\\nEducation at RGUKT\\nCareer Development Cell\\nIncubation Cell\\nInternational Desk\\nAnti Ragging\\nWomen's Cell\\nStudents' Welfare Office\\nAlumni Portal\\n\\n\\n\\nResearch\\r\\n\\t\\t\\t\\t\\t\\t\\t  \\n\\n\\nVision\\nResearch Head\\nEthics for Research\\nThrust Areas\\nResearch Guidelines\\nCollaboration MoU's\\nResearch and Advisory Committee\\n\\nDr.YSR Memorial Lecture Series\\n\\n1st Memorial Lecture\\n2nd Memorial Lecture\\n3rd Memorial Lecture\\n\\n\\n\\n\\nIQAC\\nPlacement Cell\\nLibrary\\nCareers\\nTenders\\nContact Us\\n\\n\\n\\n\\n\\n\\n\\n\\n\\nHome\\nDepartments\\nElectronics and Communication Engg\\nFaculty\\n\\n\\n\\n\\n\\xa0\\xa0Electronics and Communication Engg\\nFaculty\\nStaff\\nFacilities\\nBoard of Studies\\nContacts\\n\\n\\nBack to Previous Page\\n\\n\\n\\n\\nDepartment of Electronics and Communication Engg\\n\\n\\r\\n\\t\\t\\tStaff Memebers\\t\\t\\n\\n\\n\\n\\n\\n\\n\\nMr. Damodharareddy K\\nLab Assistant\\t\\r\\n\\t\\t\\t\\t\\t\\t\\t\\t\\t\\tEducation\\xa0\\xa0\\xa0\\xa0\\xa0\\xa0\\xa0\\xa0\\xa0\\xa0: Diploma In ECE \\r\\n\\t\\t\\t\\t\\tEmail\\xa0\\xa0\\xa0\\xa0\\xa0\\xa0\\xa0\\xa0\\xa0\\xa0\\xa0\\xa0\\xa0\\xa0\\xa0\\xa0: k.damodarareddy@rguktrkv.ac.in \\n\\n\\n\\n\\n\\n\\n\\n\\n\\nMr. R Subba Rayudu\\nLab Assistant\\t\\r\\n\\t\\t\\t\\t\\t\\t\\t\\t\\t\\tEducation\\xa0\\xa0\\xa0\\xa0\\xa0\\xa0\\xa0\\xa0\\xa0\\xa0: B.Tech \\r\\n\\t\\t\\t\\t\\tEmail\\xa0\\xa0\\xa0\\xa0\\xa0\\xa0\\xa0\\xa0\\xa0\\xa0\\xa0\\xa0\\xa0\\xa0\\xa0\\xa0: r.subbarayudu@rguktrkv.ac.in \\n\\n\\n\\n\\n\\n\\n\\n\\n\\nMr. K.N.Koundinya Kumar\\nLab Technician\\t\\r\\n\\t\\t\\t\\t\\t\\t\\t\\t\\t\\tEducation\\xa0\\xa0\\xa0\\xa0\\xa0\\xa0\\xa0\\xa0\\xa0\\xa0: I.T.I & DIPLOMA IN Electronics \\r\\n\\t\\t\\t\\t\\tEmail\\xa0\\xa0\\xa0\\xa0\\xa0\\xa0\\xa0\\xa0\\xa0\\xa0\\xa0\\xa0\\xa0\\xa0\\xa0\\xa0: knkoundinyakumar@rguktrkv.ac.in \\n\\n\\n\\n\\n\\n\\n\\n\\n\\nMr. Kuruva Venkateswarulu\\nLab Technician\\t\\r\\n\\t\\t\\t\\t\\t\\t\\t\\t\\t\\tEducation\\xa0\\xa0\\xa0\\xa0\\xa0\\xa0\\xa0\\xa0\\xa0\\xa0: I.T.I & DIPLOMA IN Electronics \\r\\n\\t\\t\\t\\t\\tEmail\\xa0\\xa0\\xa0\\xa0\\xa0\\xa0\\xa0\\xa0\\xa0\\xa0\\xa0\\xa0\\xa0\\xa0\\xa0\\xa0: k.venkateswarulu@rguktrkv.ac.in \\n\\n\\n\\n\\n\\n\\n\\n\\n\\n\\n\\n\\n\\n\\n\\nHome |  Scroll to Top |  Feedback  |  Credits |  Contact Us \\xa0\\xa0\\xa0\\r\\n\\t\\t\\t\\n\\n\\n\\n\\n\\n\\n\\n\\n\\n\\nCopyright © 2010 Rajiv Gandhi University of Knowledge Technologies, All Rights Reserved; Send your Feedback/Comments to webmaster@rguktrkv.ac.in\\n\\n\\n\\n\\n\\n\\n\\n\\n\\n\", \"\\n\\n\\n\\n\\n\\n\\n\\n\\n\\n\\nECE - RK Valley :: RGUKT-AP\\n\\n\\n\\n\\n\\n\\n\\n\\n\\n\\n\\n\\n\\n\\n\\n\\n\\n\\n\\n\\nRajiv Gandhi University of Knowledge Technologies-Andhra Pradesh\\nRK Valley Institute\\n\\n(Constituted under the A.P Govt. Act 18 of 2008 and recognized as per Section 2(f), 12(B) of UGC Act, 1956) \\nAccredited by 'NAAC' with 'B+' Grade\\n\\n\\n\\n\\n\\n\\n\\n\\n\\n\\n\\nToggle navigation\\n\\n\\n\\n\\n\\n\\n\\n\\n\\n\\n\\nInstitute\\r\\n\\t\\t\\t\\t\\t\\t\\t  \\n\\n\\nAbout RGUKT\\nVision and Mission\\nBest Practices\\nOrganization Chart\\nStrategy Document\\nGoverning Council\\nAnnual Report\\nConvocation\\nOmbudsperson\\nNAAC Certificate\\nNIRF\\nUGC Status (12B)\\nUGC Status (2F)\\nUGC-NAD/ABC Cell\\nAICTE Mandatory Disclosure\\n\\n\\n\\n\\n\\nAcademics\\r\\n\\t\\t\\t\\t\\t\\t\\t  \\n\\n\\nAcademic Audit Reports\\n\\nMinutes of Academic Council Meetings\\nFaculty Ethics\\nAcademic Programmes\\nAcademic Regulations\\nAcademic Calendar\\nCurricula\\nDepartments\\nTime Table\\nExaminations\\n\\n\\n\\nAdministration\\r\\n\\t\\t\\t\\t\\t\\t\\t  \\n\\n\\nChancellor\\nVice Chancellor\\nDirector\\nAdministrative Officer\\nFinance Officer\\nEstablishment Section\\nDean of Academics\\nDean of Students Welfare\\nController of Examinations\\nAdministration\\n\\nSports Board\\nCommunication Directory\\n\\n\\n\\nFaculty\\r\\n\\t\\t\\t\\t\\t\\t\\t  \\n\\n\\nBio-Sciences\\nChemical Engineering\\nChemistry\\nCivil Engineering\\nComputer Science and Engineering\\nElectrical Engineering\\nElectronics and Communications Engineering\\nInformation Technology\\nMathematics\\nMechanical Engineering\\nMetallurgical & Materials Engineering\\nOther Departments\\n\\n\\n\\nAdmission\\r\\n\\t\\t\\t\\t\\t\\t\\t  \\n\\n\\nUG Admissions\\nPG Admissions\\nPh.D Admissions\\n\\n\\n\\nStudents\\r\\n\\t\\t\\t\\t\\t\\t\\t  \\n\\n\\nEducation at RGUKT\\nCareer Development Cell\\nIncubation Cell\\nInternational Desk\\nAnti Ragging\\nWomen's Cell\\nStudents' Welfare Office\\nAlumni Portal\\n\\n\\n\\nResearch\\r\\n\\t\\t\\t\\t\\t\\t\\t  \\n\\n\\nVision\\nResearch Head\\nEthics for Research\\nThrust Areas\\nResearch Guidelines\\nCollaboration MoU's\\nResearch and Advisory Committee\\n\\nDr.YSR Memorial Lecture Series\\n\\n1st Memorial Lecture\\n2nd Memorial Lecture\\n3rd Memorial Lecture\\n\\n\\n\\n\\nIQAC\\nPlacement Cell\\nLibrary\\nCareers\\nTenders\\nContact Us\\n\\n\\n\\n\\n\\n\\n\\n\\n\\nHome\\nAcademics Programmes\\nCurricula\\nElectronics and Communications Engineering\\n\\n\\n\\n\\nElectronics and Communications Engineering\\nList of Electives\\n\\n\\nBack to Previous Page\\n\\n\\n\\n\\nCurriculum of Electronics and Communications Engineering\\n\\n\\n\\n\\nCurriculum for the Academics Year 2020-21 ( 2020 Batch Students Onwards)\\n\\n\\nCurriculum for the Academics Year 2017-21 ( 2015 Batch Students )\\n\\n\\nCurriculum for the Academics Year 2016-20 ( 2014 Batch Students )\\n\\n\\nCurriculum for the Academics Year 2015-19 ( 2013 Batch Students )\\n\\n\\nCurriculum for the Academics Year 2014-18 ( 2012 Batch Students )\\n\\n\\nCurriculum for the Academics Year 2013-17 ( 2011 Batch Students )\\n\\n\\nCurriculum for the Academics Year 2012-16 ( 2010 Batch Students )\\n\\n\\n\\n\\n\\n\\n\\n\\n\\n\\n\\n\\n\\n\\n\\nHome |  Scroll to Top |  Feedback  |  Credits |  Contact Us \\xa0\\xa0\\xa0\\r\\n\\t\\t\\t\\n\\n\\n\\n\\n\\n\\n\\n\\n\\n\\nCopyright © 2010 Rajiv Gandhi University of Knowledge Technologies, All Rights Reserved; Send your Feedback/Comments to webmaster@rguktrkv.ac.in\\n\\n\\n\\n\\n\\n\\n\\n\\n\\n\", \"\\n\\n\\n\\n\\n\\n\\n\\n\\n\\n\\nHome - RK Valley :: RGUKT-AP\\n\\n\\n\\n\\n\\n\\n\\n\\n\\n\\n\\n\\n\\n\\n\\n\\n\\n\\n\\n\\nRajiv Gandhi University of Knowledge Technologies-Andhra Pradesh\\nRK Valley Institute\\n\\n(Constituted under the A.P Govt. Act 18 of 2008 and recognized as per Section 2(f), 12(B) of UGC Act, 1956) \\nAccredited by 'NAAC' with 'B+' Grade\\n\\n\\n\\n\\n\\n\\n\\n\\n\\n\\n\\nToggle navigation\\n\\n\\n\\n\\n\\n\\n\\n\\n\\n\\n\\nInstitute\\r\\n\\t\\t\\t\\t\\t\\t\\t  \\n\\n\\nAbout RGUKT\\nVision and Mission\\nBest Practices\\nOrganization Chart\\nStrategy Document\\nGoverning Council\\nAnnual Report\\nConvocation\\nOmbudsperson\\nNAAC Certificate\\nNIRF\\nUGC Status (12B)\\nUGC Status (2F)\\nUGC-NAD/ABC Cell\\nAICTE Mandatory Disclosure\\n\\n\\n\\n\\n\\nAcademics\\r\\n\\t\\t\\t\\t\\t\\t\\t  \\n\\n\\nAcademic Audit Reports\\n\\nMinutes of Academic Council Meetings\\nFaculty Ethics\\nAcademic Programmes\\nAcademic Regulations\\nAcademic Calendar\\nCurricula\\nDepartments\\nTime Table\\nExaminations\\n\\n\\n\\nAdministration\\r\\n\\t\\t\\t\\t\\t\\t\\t  \\n\\n\\nChancellor\\nVice Chancellor\\nDirector\\nAdministrative Officer\\nFinance Officer\\nEstablishment Section\\nDean of Academics\\nDean of Students Welfare\\nController of Examinations\\nAdministration\\n\\nSports Board\\nCommunication Directory\\n\\n\\n\\nFaculty\\r\\n\\t\\t\\t\\t\\t\\t\\t  \\n\\n\\nBio-Sciences\\nChemical Engineering\\nChemistry\\nCivil Engineering\\nComputer Science and Engineering\\nElectrical Engineering\\nElectronics and Communications Engineering\\nInformation Technology\\nMathematics\\nMechanical Engineering\\nMetallurgical & Materials Engineering\\nOther Departments\\n\\n\\n\\nAdmission\\r\\n\\t\\t\\t\\t\\t\\t\\t  \\n\\n\\nUG Admissions\\nPG Admissions\\nPh.D Admissions\\n\\n\\n\\nStudents\\r\\n\\t\\t\\t\\t\\t\\t\\t  \\n\\n\\nEducation at RGUKT\\nCareer Development Cell\\nIncubation Cell\\nInternational Desk\\nAnti Ragging\\nWomen's Cell\\nStudents' Welfare Office\\nAlumni Portal\\n\\n\\n\\nResearch\\r\\n\\t\\t\\t\\t\\t\\t\\t  \\n\\n\\nVision\\nResearch Head\\nEthics for Research\\nThrust Areas\\nResearch Guidelines\\nCollaboration MoU's\\nResearch and Advisory Committee\\n\\nDr.YSR Memorial Lecture Series\\n\\n1st Memorial Lecture\\n2nd Memorial Lecture\\n3rd Memorial Lecture\\n\\n\\n\\n\\nIQAC\\nPlacement Cell\\nLibrary\\nCareers\\nTenders\\nContact Us\\n\\n\\n\\n\\n\\n\\n ***Certificate of Accreditation for NAAC \\xa0\\xa0***   \\n\\n\\n\\n\\n\\n\\n\\n\\n\\n\\n\\n\\n\\n\\n\\n\\n\\n\\n\\n\\n\\n\\n\\n\\n\\n\\n\\n\\n\\n\\n\\n\\n\\n\\n\\n\\n\\n\\n\\n\\n\\n\\n\\n\\n\\n\\n\\n\\n\\n\\n\\n\\n\\n\\n\\n\\n\\n\\n\\n\\n\\nProf. M. Vijaya Kumar\\nVice-Chancellor (FAC)\\nProf. M. Vijaya Kumar, Rector, Jawaharlal Nehru Technological University Anantapur (JNTUA) has assumed charge as Vice-Chancellor In-Charge of Rajiv Gandhi University of Knowledge Technologies, A.P. on 20th January, 2023. He is an erudite professor, well-known teacher and eminent researcher who aspires to use science and technology to improve community life. \\n\\nmore....\\n\\n\\n\\nProf. A V S S Kumara Swami Gupta\\nDirector\\nDr Gupta has completed his Bachelor degree in Mechanical Engineering from JNTU College of Engineering, Anantapur in 1993, Masters degree in Mechanical Engineering from Regional Engineering College, Warangal (RECW) and Doctoral degree from Indian Institute of Technology, Kharagpur (IITKGP) in the year 1999.\\n\\nmore....\\n\\n\\n\\n\\n\\n\\n\\n\\n\\n\\n\\n\\n\\n\\n\\n\\n\\n\\n\\n\\n\\n\\n\\n\\n\\n\\n\\n\\n\\n\\n\\n\\n\\n\\n\\n\\n\\n\\n\\n\\n\\n\\n\\n\\n\\n\\n\\n\\n\\n\\n\\n\\n\\n\\n\\n\\n\\n\\n\\n\\n\\n\\n\\n\\n\\n\\n\\n\\n\\n\\n\\n\\n\\n\\n\\n\\nLatest News\\n\\n\\n(09.12.2024)\\xa0\\xa0Registrations for remedial exams for R08 to R16 batches students.  VISIT EXAMCELL\\n(05.11.2024)\\xa0\\xa0Advertisement for the post of Project Fellow under RUSA Project in Dept. of CIVIL\\n(02.11.2024)\\xa0\\xa0Advertisement for the post of Project Fellow under RUSA Project in Dept. of MME\\n(14.03.2024)\\xa0\\xa0Applications are invited for the Post of Residential Medical Officer (RMO) (Female) and Yoga Instructor for RGUKT RK Valley campus\\n(11.12.2023)\\xa0\\xa0Revised academic calendar for 2nd semester for the academic year 2023-24\\n(11.12.2023)\\xa0\\xa0Viksit Bharat @2047\\n\\n\\n\\n\\n\\n\\n\\n\\n\\n\\n\\n\\n\\nTenders\\n\\n\\n(19.09.2022)\\xa0\\xa0Notice inviting quotations for supplying of different items for RGUKT,RKValley(E-Procurement)\\n(20.05.2022)\\xa0\\xa0Notice inviting quotations for supply of medicines(Q36)\\n\\n\\n\\n\\n\\nEvents\\n\\n\\n(06.07.2022)\\xa0\\xa02nd Dr. YSR Memorial Lecture by Dr. Kota Harinarayana on Aircraft-Artificial Intelligence-Agriculture: The AAA Effect\\n(26.02.2022)\\xa0\\xa05th Convocation :: Video\\n\\n\\n\\n\\n\\n\\n\\n\\n\\n\\n\\n\\n\\n\\n\\nThe Institute\\n\\n\\n\\nAbout RGUKT\\nChancellor\\nVice Chancellor\\nDirector\\nGoverning Council\\n\\nAdministration\\nEstablishment Section\\nFaculty\\nSports Board\\nCommunication Directory\\nAnnual Reports\\nIQAC\\nRight to Information Act\\n\\n\\n\\n\\n\\nConvocation\\n\\n\\nSports Board\\n\\n\\n\\n\\nAcademics\\n\\n\\n\\nAcademic Programmes\\nUG Programme\\nPG Programme\\nResearch\\nAcademic Regulations\\nAcademic Calendar\\nPublications\\nCurricula\\nDepartments\\nTime Table\\nExaminations\\nSummer Programmes\\nAcademic Innovation\\n\\n\\n\\n\\n\\nExamination Cell\\n\\n\\nCE & HE Cell\\n\\n\\nOmbudsperson\\n\\n\\n\\n\\nStudents\\n\\n\\n\\nAdmissions\\nEducation at RGUKT\\n\\nCareer Development Cell\\nCE & HE Cell\\nOmbudsperson\\nInternational Desk\\nLibrary\\nSC/ST Cell\\nFacilities\\n\\nAnti Ragging\\nStudents' Welfare Office\\nNSS Activities\\nEvents & Activities\\nAchievements\\nAlumni Portal\\n\\n\\n\\n\\n\\nSC/ST Cell\\n\\n\\nAlumni Portal\\n\\n\\n\\n\\nQuick Links\\n\\n\\n\\nNAAC Certificate\\nNIRF\\nUGC Status (12B)\\nUGC Status (2F)\\nUGC-NAD/ABC Cell\\nAICTE Mandatory Disclosure\\n\\nCareers @ RK Valley\\nTenders & Quotations\\nInstitute Holiday List (2024)\\nInstitute Holiday List (2025)\\nPhoto Gallery\\nDownload Forms\\nOnline Payments\\xa0\\nEducational Details Verification\\nContact Us\\nLink to Other RGUKT Institutes\\nOnline Services for Voters\\n\\n\\n\\n\\n\\nPlacement Cell\\n\\n\\nOnline Payments\\n\\n\\n\\n\\n\\n\\n\\n\\n\\n\\nHome |  Scroll to Top |  Feedback  |  Credits |  Contact Us \\xa0\\xa0\\xa0\\r\\n\\t\\t\\t\\n\\n\\n\\n\\n\\n\\n\\n\\n\\n\\nCopyright © 2010 Rajiv Gandhi University of Knowledge Technologies, All Rights Reserved; Send your Feedback/Comments to webmaster@rguktrkv.ac.in\\n\\n\\n\\n\\n\\n\\n\\n\\n\\n\", 'Rajiv Gandhi University of Knowledge Technologies - AP \\nDepartment of Electronics & Communications Engineering \\n \\n \\n11 \\n \\nChapter 2 \\nSemester-Wise Structure of Curriculum \\nMandatory Induction Program \\n \\n \\n \\n \\nENGINEERING FIRST YEAR: SEMESTER-1 \\nSLNO CATEGORY COURSE \\nCODE SUBJECT NAME L-T-P Credits \\n1 BSC 20MA1101 Differential Equations and \\nMultivariable calculus 3-1-0 4 \\n2 BSC 20PY1101 Engineering Physics 3-1-0 4 \\n3 BSC 20PY1181 Engineering Physics Lab 0-0-3 1.5 \\n4 PCC 20EC1203 Signals and Systems 3-1-0 \\n \\n4 \\n5 ESC 20EE1110 Electrical Technology 3-1-0 4 \\n6 ESC 20EE1180 Electrical Technology Lab 0-0-3 1.5 \\n7 ESC 20EC1102 Introduction to Latest Technical \\nAdvancements 1-0-0 1 \\n8 ESC 20CS1108 Programming & Data Structures 3-0-0 3 \\n9 ESC 20CS1188 Programming & Data Structures \\nLab 0-0-3 1.5 \\nTotal Credits 24.5 \\nTotal contact hours : 29 hours \\nPhysical activity \\nCreative Arts \\nUniversal Human Values \\nLiterary \\nProficiency Modules \\nLectures by Eminent people \\nVisit to local areas \\nFamiliarization of Dept./Branch Innovations \\n3 Weeks Duration ', 'Rajiv Gandhi University of Knowledge Technologies - AP \\nDepartment of Electronics & Communications Engineering \\n \\n \\n12 \\n \\nENGINEERING FIRST YEAR: SEMESTER-2 \\nSLNO CATEGORY COURSE CODE SUBJECT NAME L-T-P Credits \\n1 BSC 20MA1201 Mathematical Methods 3-1-0 4 \\n2 ESC 20CS1209 Object Oriented Programming 2-0-0 2 \\n3 ESC 20CS1289 Object Oriented Programming \\nLaboratory 0-0-3 1.5 \\n4 ESC 20EC1285 Computational Lab 0-0-3 1.5 \\n5 HSC 20EG1281 English-Language \\nCommunication skills Lab-1 \\n1-0-3 2.5 \\n6 PCC 20EC1201 Electronic Devices and Circuits 3-1-0 4 \\n7 PCC 20EC1281 Electronic Devices and Circuits \\nLab \\n0-0-3 1.5 \\n8 PCC 20EE1211 Network Theory 3-1-0 4 \\n9 ESC 20CE1114 \\n \\nEngineering Graphics and \\nDesign \\n1-0-3 2.5 \\n      \\nTotal Credits 23.5 \\nTotal contact hours : 31 hours \\n \\n \\n \\nENGINEERING SECOND YEAR: SEMESTER-1 \\nSLNO CATEGORY COURSE CODE SUBJECT NAME L-T-P Credits \\n1 BSC 20MA2101 Probability & Random Variables 2-1-0 3 \\n2 ESC 20EC2185 Internet of Things Lab 0-0-3 1.5 \\n3 PCC 20EC2101 Analog Electronic Circuits 3-1-0 4 \\n4 PCC 20EC2181 Analog Electronic Circuits Lab 0-0-3 1.5 \\n5 PCC 20EC2102 Digital Logic Design 3-1-0 4 \\n6 PCC 20EC2182 Digital Logic Design Lab 0-0-3 1.5 \\n7 PCC 20EC2103 Digital Signal Processing 3-1-0 4 \\n8 PCC 20EC2183 Digital Signal Processing Lab 0-0-3 1.5 \\n9 PCC 20EE21XX Control Systems 3-0-0 3 \\nTotal Credits 24 \\nTotal contact hours: 30 hours ', 'Rajiv Gandhi University of Knowledge Technologies - AP \\nDepartment of Electronics & Communications Engineering \\n \\n \\n13 \\n \\nENGINEERING SECOND YEAR: SEMESTER-2 \\nSLNO CATEGORY COURSE CODE SUBJECT NAME L-T-P Credits \\n1 ESC 20EC2285 Robotics Laboratory 1-0-3 2.5 \\n2 PCC 20EC2201 Communication Systems-1 3-1-0 4 \\n3 PCC 20EC2281 Communication Systems-1 Lab 0-0-3 1.5 \\n4 PCC 20EC2202 Digital System Design 3-1-0 4 \\n5 PCC 20EC2282 Digital System Design Lab 0-0-3 1.5 \\n6 PCC 20EC2203 Linear Integrated Circuits 3-1-0 4 \\n7 PCC 20EC2283 Linear Integrated Circuits Lab 0-0-3 1.5 \\n8 PCC 20EC2204 Electromagnetic Waves & \\nGuided Media 3-1-0 4 \\nTotal Credits 23 \\nTotal contact hours : 29 hours \\n \\n \\nENGINEERING THIRD YEAR: SEMESTER-1 \\nSLNO CATEGORY COURSE CODE SUBJECT NAME L-T-P Credits \\n1 ESC 20EC3102 Computer Networks 3-0-0 3 \\n2 ESC 20EC3103 Computer Organization & \\nArchitecture 3-1-0 4 \\n3 HSC 20EG3182 English-Language \\nCommunication skills Lab-2 \\n0-0-3 1.5 \\n4 PCC 20EC3101 Communication Systems- 2 3-1-0 4 \\n5 PCC 20EC3181 Communication Systems -2 \\nLab 0-0-3 1.5 \\n \\n6 \\n \\nPCC \\n \\n20EC3182 \\nMicroprocessors, \\nMicrocontrollers & Computer \\nNetworks Lab \\n \\n0-0-3 \\n \\n1.5 \\n7 PCC 20EC3185 Radio Frequency & Microwave \\nEngg. Lab 1-0-3 2.5 \\n8 PROJ 20EC3190 Mini-Project-I \\n(Socially Relevant Project) 0-0-2 1 \\nTotal Credits 19 \\nMC 20HS3101 Indian Constitution 2-0-0 0 \\nTotal contact hours: 25 hours \\n*Mini Project-1 workload not included in above workload calculation ', 'Rajiv Gandhi University of Knowledge Technologies - AP \\nDepartment of Electronics & Communications Engineering \\n \\n \\n14 \\n \\nENGINEERING THIRD YEAR: SEMESTER-2 \\nSLNO CATEGORY COURSE CODE SUBJECT NAME L-T-P Credits \\n1 HSC 20EG3283 English-Language \\nCommunication skills Lab-3 \\n0-0-3 1.5 \\n2 HSC 20BMXY01 Product Design & Innovation 1-0-0 1 \\n3 PEC 20EC32XX Elective-1 3-0-0 3 \\n4 PEC 20EC32XX Elective-2 3-0-0 3 \\n5 OEC 20XX32XX Open Elective-1 3-0-0 3 \\n6 OEC 20XX32XX Open Elective-2 3-0-0 3 \\n7 PROJ 20EC3291 Mini Project-II 0-0-3 1.5 \\nTotal Credits 16 \\nMC 20MC3201 Career Development Course 2-0-0 0 \\nTotal contact hours : 18 hours \\n*Mini Project-2 work load not included in above calculation \\n \\nENGINEERING FOURTH YEAR: SEMESTER-1 \\nSLNO CATEGORY COURSE CODE SUBJECT NAME L-T-P Credits \\n1 PEC 20EC41XX Elective-3 3-0-0 3 \\n2 PEC 20EC41XX Elective-4 3-0-0 3 \\n3 OEC 20XX41XX Open Elective-3 3-0-0 3 \\n4 PROJ 20EC4192 Summer Internship Project 0-0-6 3 \\n5 PROJ 20EC4193 Project I 0-0-8 4 \\nTotal Credits 16 \\nMC 20BE4101 Environmental Science 2-0-0 0 \\nTotal contact hours : 11 hours \\n*Project-1 work load not included in above calculation \\n*Summer Internship Project will be after completion of Engineering Third Year Semester-2 \\n \\nENGINEERING FOURTH YEAR: SEMESTER -2 \\nSLNO CATEGORY COURSE CODE SUBJECT NAME L-T-P Credits \\n1 HSC 20HS4299 Community Service 0-0-4 2 \\n3 PEC 20EC42XX Elective-5 3-0-0 3 \\n5 OEC 20XX42XX Open Elective-4 3-0-0 3 \\n6 PROJ 20EC4294 Project-II & Dissertation 0-0-12 6 \\nTotal Credits 14 \\nTotal contact hours : 6 hours \\n*Project-2 and Community Service work load not included in above calculation ', 'Rajiv Gandhi University of Knowledge Technologies - AP \\nDepartment of Electronics & Communications Engineering \\n \\n \\n15 \\n \\nList of Program Electives Courses/ Open Elective Courses \\n \\n \\n \\nProgram Elective Courses \\nCommunication Stream \\n20ECXY01:Advanced Digital Communications \\n20ECXY02:Antenna and Radio wave propagation \\n20ECXY03:Cooperative Communications \\n20ECXY04:Design of Microwave systems \\n20ECXY05:Detection and Estimation Theory \\n20ECXY06:Error Correcting Codes \\n20ECXY07:Information Theory and Coding \\n20ECXY08:Millimeter wave Technology \\n20ECXY09:Optical Communications \\n20ECXY10:Principles of RADAR \\n20ECXY11:Radio Frequency and Microwave Engineering \\n20ECXY12:Satellite Communications \\n20ECXY13:Wireless Communications \\n \\nSignal Processing Stream \\n20ECXY14:Advanced Digital Signal Processing \\n20ECXY15:Artificial Neural Networks \\n20ECXY16:Biomedical Signal Processing \\n20ECXY17:Digital Image Processing \\n20ECXY18:Digital Voice and Picture Communication ', 'Rajiv Gandhi University of Knowledge Technologies - AP \\nDepartment of Electronics & Communications Engineering \\n \\n \\n16 \\n \\n20ECXY19:Estimation of Signals and Systems \\n20ECXY20:Medical Image Analysis \\n20ECXY21:Pattern Recognition and applications \\n20ECXY55: Adapative Signal Processing \\n \\n20ECXY56: Introduction to Deep Learning \\nVLSI and Embedded systems Stream \\n20ECXY22:Analog IC Design \\n20ECXY23:Digital IC Design \\n20ECXY24:Digital VLSI System Design \\n20ECXY25:Electronic System Packaging \\n20ECXY26:Embedded Systems \\n20ECXY27:Embedded System Software Testing \\n20ECXY28:FPGA based System Design \\n20ECXY29:Low Power Circuits and Systems \\n20ECXY30:MEMS and Microsystems \\n20ECXY31:RF IC Design \\n20ECXY32:Systemverilog \\n20ECXY33:VLSI DSP \\n20ECXY34:VLSI Physical Design \\n20ECXY35:VLSI Testing and Verification \\nOpenElectiveCourses (Offered to other departments) \\n20ECXY50:Artificial Intelligence \\n20ECXY51:Computational science and Engineering using Python ', 'Rajiv Gandhi University of Knowledge Technologies - AP \\nDepartment of Electronics & Communications Engineering \\n \\n \\n17 \\n \\n20ECXY52:Linux Programming and Scripting \\n20ECXY53:Machine Learning \\n 20ECXY54:Robotics Operating System: Drones \\n 20ECXY57: Electronic Measurements and Instrumentation \\n \\n ', 'Rajiv Gandhi University of Knowledge Technologies - AP \\nDepartment of Electronics & Communications Engineering \\n \\n \\n18 \\n \\n \\n \\nCOURSES BEING OFFERED TO OTHER DEPARTMENTS \\n \\n \\nCOURSE CODE SUBJECT NAME L-T-P CREDITS BRANCHES \\n20ECXX10 Digital Logic Design 3-0-0 3 CSE \\n20ECXX80 Digital Logic Design Laboratory 0-0-3 1.5 CSE \\n \\n \\nCSE: Department of Computer Science and Engineering  ', 'Rajiv Gandhi University of Knowledge Technologies - AP \\nDepartment of Electronics & Communications Engineering \\n \\n \\n249 \\n \\n \\n \\n \\nRajiv Gandhi University of Knowledge Technologies \\nCOURSE STRUCTURE AND DETAILED SYLLABI FOR THE B.TECH PROGRAM \\n(MINOR DEGREE IN MACHINE LEARNING) IN ELECTRONICS AND \\nCOMMUNICATION ENGINEERING \\n(EFFECTIVE FROM THE BATCHES ADMITTED IN 2019-20) \\n \\n \\n \\n \\n \\n \\nIndex \\n1. Introduction \\n2. Course Structure \\n3. Eligibility \\n4. Syllabus  \\n \\n \\n \\n \\n \\n \\n \\n \\n \\n \\n \\n \\n \\n', 'Rajiv Gandhi University of Knowledge Technologies - AP \\nDepartment of Electronics & Communications Engineering \\n \\n \\n250 \\n \\n \\nIntroduction & Background \\n \\nArtificial Intelligence is the simulation of the human process by machines. Artificial intelligence and machine \\nlearning are rapidly changing our world and empowering the Fourth Industrial Revolution. ML can solve \\nmany real world problems in the fields of Computers, Electronics, communications, signal processing to name \\na few. Since the last decade it is receiving growing attention globally both from industries and academia. \\nHence there is a need to introduce and make expertise in this domain to the students to compet e with the \\ncontemporary world with the help of this trending technology. \\nOur goal with minor in ML is to: \\n \\n1. Train the students to get expertise in the relevant areas of MLand make them industry ready. \\n2. Increase the placements by targeting the ample number of industries working with AI & ML \\n3. Contribute towards Research through publications in ML, as most of the accepted research works in      \\nEC and CS are based on AI and ML. \\n4. Establishing research labs in collaboration with industries and MoUs with other reputed national \\nand international institutions. \\n5. Encourage Innovation and entrepreneurship in AI. \\n \\nThe objective of this Request for Proposal is to locate a source that will provide the best overall value to \\nRGUKT RK Valley.  \\n \\n \\n \\n \\n \\n \\n \\n \\n \\n \\n \\n \\n \\n \\n \\n \\n \\n \\n \\n \\n', 'Rajiv Gandhi University of Knowledge Technologies - AP \\nDepartment of Electronics & Communications Engineering \\n \\n \\n251 \\n \\n \\n \\nCourse Structure \\n \\n \\nS.No Title of the course credits Prerequisite \\nE3 Semester-I \\n1 20ECM101 Mathematical foundations \\nfor ML \\n4 Probability theory(20MA2101) \\nE3 Semester-II \\n2 20ECM102 Foundations of \\nprogramming for ML \\n4 PDS(20CS1109) \\n3 20ECM103 Machine Learning 4  \\nE4 Semester-I \\n4 20ECM104 Introduction to Deep \\nlearning \\n4  \\nE4 Semester-II \\n5 20ECM1xx ML Elective-1 4  \\nTotal credits 20  \\n \\n \\n \\n \\n \\n \\n \\n \\n \\n \\n']\n"
     ]
    }
   ],
   "source": [
    "print(page_contents)"
   ]
  },
  {
   "cell_type": "code",
   "execution_count": 43,
   "id": "2ef36671-92e9-4d40-9ce5-e1723fe2f72e",
   "metadata": {},
   "outputs": [],
   "source": [
    "from langchain_text_splitters import RecursiveCharacterTextSplitter"
   ]
  },
  {
   "cell_type": "code",
   "execution_count": null,
   "id": "5cd809f4-17e7-4118-b79c-1193f2be2921",
   "metadata": {},
   "outputs": [],
   "source": []
  },
  {
   "cell_type": "code",
   "execution_count": 44,
   "id": "1ac3f5be-a7ee-4543-8b33-bea13d2e4937",
   "metadata": {},
   "outputs": [],
   "source": [
    "text_splitter = RecursiveCharacterTextSplitter(\n",
    "    chunk_size=1800,\n",
    "    chunk_overlap=10, #This sets the number of characters to overlap between consecutive chunks. Here, the text will have a 20-character overlap at the end of one chunk and the beginning of the next.\n",
    ")"
   ]
  },
  {
   "cell_type": "code",
   "execution_count": 45,
   "id": "382a8f6b-48dc-43c7-9034-60186502c565",
   "metadata": {},
   "outputs": [],
   "source": [
    "chunks=text_splitter.split_documents(overalldata)"
   ]
  },
  {
   "cell_type": "code",
   "execution_count": 46,
   "id": "0d2897ae-c521-477c-92a9-a0c173e26afd",
   "metadata": {},
   "outputs": [
    {
     "data": {
      "text/plain": [
       "23"
      ]
     },
     "execution_count": 46,
     "metadata": {},
     "output_type": "execute_result"
    }
   ],
   "source": [
    "len(chunks)"
   ]
  },
  {
   "cell_type": "code",
   "execution_count": 47,
   "id": "59d5f35c-a64e-4c7c-b686-8dff2bbf8d2e",
   "metadata": {},
   "outputs": [
    {
     "data": {
      "text/plain": [
       "Document(metadata={'source': 'https://www.rguktrkv.ac.in/Departments.php?view=EC&staff=TS', 'title': 'Electronics and Communication Engg - RK Valley :: RGUKT-AP', 'description': '', 'language': ''}, page_content=\"Electronics and Communication Engg - RK Valley :: RGUKT-AP\\n\\n\\n\\n\\n\\n\\n\\n\\n\\n\\n\\n\\n\\n\\n\\n\\n\\n\\n\\n\\nRajiv Gandhi University of Knowledge Technologies-Andhra Pradesh\\nRK Valley Institute\\n\\n(Constituted under the A.P Govt. Act 18 of 2008 and recognized as per Section 2(f), 12(B) of UGC Act, 1956) \\nAccredited by 'NAAC' with 'B+' Grade\\n\\n\\n\\n\\n\\n\\n\\n\\n\\n\\n\\nToggle navigation\\n\\n\\n\\n\\n\\n\\n\\n\\n\\n\\n\\nInstitute\\r\\n\\t\\t\\t\\t\\t\\t\\t  \\n\\n\\nAbout RGUKT\\nVision and Mission\\nBest Practices\\nOrganization Chart\\nStrategy Document\\nGoverning Council\\nAnnual Report\\nConvocation\\nOmbudsperson\\nNAAC Certificate\\nNIRF\\nUGC Status (12B)\\nUGC Status (2F)\\nUGC-NAD/ABC Cell\\nAICTE Mandatory Disclosure\\n\\n\\n\\n\\n\\nAcademics\\r\\n\\t\\t\\t\\t\\t\\t\\t  \\n\\n\\nAcademic Audit Reports\\n\\nMinutes of Academic Council Meetings\\nFaculty Ethics\\nAcademic Programmes\\nAcademic Regulations\\nAcademic Calendar\\nCurricula\\nDepartments\\nTime Table\\nExaminations\\n\\n\\n\\nAdministration\\r\\n\\t\\t\\t\\t\\t\\t\\t  \\n\\n\\nChancellor\\nVice Chancellor\\nDirector\\nAdministrative Officer\\nFinance Officer\\nEstablishment Section\\nDean of Academics\\nDean of Students Welfare\\nController of Examinations\\nAdministration\\n\\nSports Board\\nCommunication Directory\\n\\n\\n\\nFaculty\\r\\n\\t\\t\\t\\t\\t\\t\\t  \\n\\n\\nBio-Sciences\\nChemical Engineering\\nChemistry\\nCivil Engineering\\nComputer Science and Engineering\\nElectrical Engineering\\nElectronics and Communications Engineering\\nInformation Technology\\nMathematics\\nMechanical Engineering\\nMetallurgical & Materials Engineering\\nOther Departments\\n\\n\\n\\nAdmission\\r\\n\\t\\t\\t\\t\\t\\t\\t  \\n\\n\\nUG Admissions\\nPG Admissions\\nPh.D Admissions\\n\\n\\n\\nStudents\\r\\n\\t\\t\\t\\t\\t\\t\\t  \\n\\n\\nEducation at RGUKT\\nCareer Development Cell\\nIncubation Cell\\nInternational Desk\\nAnti Ragging\\nWomen's Cell\\nStudents' Welfare Office\\nAlumni Portal\\n\\n\\n\\nResearch\\r\\n\\t\\t\\t\\t\\t\\t\\t  \\n\\n\\nVision\\nResearch Head\\nEthics for Research\\nThrust Areas\\nResearch Guidelines\\nCollaboration MoU's\\nResearch and Advisory Committee\")"
      ]
     },
     "execution_count": 47,
     "metadata": {},
     "output_type": "execute_result"
    }
   ],
   "source": [
    "chunks[0]"
   ]
  },
  {
   "cell_type": "markdown",
   "id": "ccd52553-32ab-49c6-a675-0fcb40eb4fc6",
   "metadata": {},
   "source": [
    "## Embedding (converting the text into numbers)"
   ]
  },
  {
   "cell_type": "code",
   "execution_count": 48,
   "id": "f0dea7b3-9f3a-4053-98fc-95ab876c5982",
   "metadata": {},
   "outputs": [],
   "source": [
    "## initially we will define the embedding model and we will use it vectorestores"
   ]
  },
  {
   "cell_type": "code",
   "execution_count": 49,
   "id": "dd812e47-3cee-464d-8dae-3525dcad2b8c",
   "metadata": {},
   "outputs": [],
   "source": [
    "from langchain_cohere import CohereEmbeddings\n",
    "cohere_api_key=\"txbfSbwJYRR4ogGa6dXvtz63qj5gatE0mM43LLId\"\n",
    "embeddings = CohereEmbeddings(\n",
    "    model=\"embed-english-v3.0\",\n",
    "    cohere_api_key=cohere_api_key\n",
    ")"
   ]
  },
  {
   "cell_type": "code",
   "execution_count": 50,
   "id": "9606d1be-87b7-4865-bbc8-c7c042c63245",
   "metadata": {},
   "outputs": [
    {
     "data": {
      "text/plain": [
       "CohereEmbeddings(client=<cohere.client.Client object at 0x000002196B8A92D0>, async_client=<cohere.client.AsyncClient object at 0x000002196B985390>, model='embed-english-v3.0', truncate=None, cohere_api_key=SecretStr('**********'), embedding_types=['float'], max_retries=3, request_timeout=None, user_agent='langchain:partner', base_url=None)"
      ]
     },
     "execution_count": 50,
     "metadata": {},
     "output_type": "execute_result"
    }
   ],
   "source": [
    "embeddings"
   ]
  },
  {
   "cell_type": "markdown",
   "id": "fb4514b0-4a77-4943-b110-43a016183022",
   "metadata": {},
   "source": [
    "## Vectore Store (we will embedd the chunks and store in a vectore database)"
   ]
  },
  {
   "cell_type": "code",
   "execution_count": 51,
   "id": "c6626515-a80a-4fdd-b4a1-b984c559ae85",
   "metadata": {},
   "outputs": [],
   "source": [
    "from langchain_community.vectorstores import FAISS\n",
    "db = FAISS.from_documents(chunks, embeddings)"
   ]
  },
  {
   "cell_type": "markdown",
   "id": "7d0ea777-91f6-4b7c-843b-074c9766b379",
   "metadata": {},
   "source": [
    "## retriver"
   ]
  },
  {
   "cell_type": "code",
   "execution_count": 52,
   "id": "91fcc334-a178-4c13-9e4f-13536fcec913",
   "metadata": {},
   "outputs": [],
   "source": [
    "## retrives the chunks related to query , and these are used by model to make predictions"
   ]
  },
  {
   "cell_type": "code",
   "execution_count": 53,
   "id": "1d57852d-acb9-4f99-b1c0-2cab53fe8ce0",
   "metadata": {},
   "outputs": [],
   "source": [
    "retriever = db.as_retriever(\n",
    "    search_type=\"similarity\", search_kwargs={\"k\":3}\n",
    ")"
   ]
  },
  {
   "cell_type": "code",
   "execution_count": 54,
   "id": "07aded1c-4799-48f2-b45a-4e77183f2d9c",
   "metadata": {},
   "outputs": [
    {
     "data": {
      "text/plain": [
       "[Document(metadata={'source': 'C:\\\\Users\\\\Charan Akula\\\\Desktop\\\\Work Space\\\\scrapping\\\\ECE SYLLABUS.pdf', 'page': 10}, page_content='Rajiv Gandhi University of Knowledge Technologies - AP \\nDepartment of Electronics & Communications Engineering \\n \\n \\n11 \\n \\nChapter 2 \\nSemester-Wise Structure of Curriculum \\nMandatory Induction Program \\n \\n \\n \\n \\nENGINEERING FIRST YEAR: SEMESTER-1 \\nSLNO CATEGORY COURSE \\nCODE SUBJECT NAME L-T-P Credits \\n1 BSC 20MA1101 Differential Equations and \\nMultivariable calculus 3-1-0 4 \\n2 BSC 20PY1101 Engineering Physics 3-1-0 4 \\n3 BSC 20PY1181 Engineering Physics Lab 0-0-3 1.5 \\n4 PCC 20EC1203 Signals and Systems 3-1-0 \\n \\n4 \\n5 ESC 20EE1110 Electrical Technology 3-1-0 4 \\n6 ESC 20EE1180 Electrical Technology Lab 0-0-3 1.5 \\n7 ESC 20EC1102 Introduction to Latest Technical \\nAdvancements 1-0-0 1 \\n8 ESC 20CS1108 Programming & Data Structures 3-0-0 3 \\n9 ESC 20CS1188 Programming & Data Structures \\nLab 0-0-3 1.5 \\nTotal Credits 24.5 \\nTotal contact hours : 29 hours \\nPhysical activity \\nCreative Arts \\nUniversal Human Values \\nLiterary \\nProficiency Modules \\nLectures by Eminent people \\nVisit to local areas \\nFamiliarization of Dept./Branch Innovations \\n3 Weeks Duration'),\n",
       " Document(metadata={'source': 'https://www.rguktrkv.ac.in/Syllabus.php?view=ECE', 'title': 'ECE - RK Valley :: RGUKT-AP', 'description': '', 'language': ''}, page_content='1st Memorial Lecture\\n2nd Memorial Lecture\\n3rd Memorial Lecture\\n\\n\\n\\n\\nIQAC\\nPlacement Cell\\nLibrary\\nCareers\\nTenders\\nContact Us\\n\\n\\n\\n\\n\\n\\n\\n\\n\\nHome\\nAcademics Programmes\\nCurricula\\nElectronics and Communications Engineering\\n\\n\\n\\n\\nElectronics and Communications Engineering\\nList of Electives\\n\\n\\nBack to Previous Page\\n\\n\\n\\n\\nCurriculum of Electronics and Communications Engineering\\n\\n\\n\\n\\nCurriculum for the Academics Year 2020-21 ( 2020 Batch Students Onwards)\\n\\n\\nCurriculum for the Academics Year 2017-21 ( 2015 Batch Students )\\n\\n\\nCurriculum for the Academics Year 2016-20 ( 2014 Batch Students )\\n\\n\\nCurriculum for the Academics Year 2015-19 ( 2013 Batch Students )\\n\\n\\nCurriculum for the Academics Year 2014-18 ( 2012 Batch Students )\\n\\n\\nCurriculum for the Academics Year 2013-17 ( 2011 Batch Students )\\n\\n\\nCurriculum for the Academics Year 2012-16 ( 2010 Batch Students )\\n\\n\\n\\n\\n\\n\\n\\n\\n\\n\\n\\n\\n\\n\\n\\nHome |  Scroll to Top |  Feedback  |  Credits |  Contact Us \\xa0\\xa0\\xa0\\r\\n\\t\\t\\t\\n\\n\\n\\n\\n\\n\\n\\n\\n\\n\\nCopyright © 2010 Rajiv Gandhi University of Knowledge Technologies, All Rights Reserved; Send your Feedback/Comments to webmaster@rguktrkv.ac.in'),\n",
       " Document(metadata={'source': 'C:\\\\Users\\\\Charan Akula\\\\Desktop\\\\Work Space\\\\scrapping\\\\ECE SYLLABUS.pdf', 'page': 251}, page_content='Rajiv Gandhi University of Knowledge Technologies - AP \\nDepartment of Electronics & Communications Engineering \\n \\n \\n251 \\n \\n \\n \\nCourse Structure \\n \\n \\nS.No Title of the course credits Prerequisite \\nE3 Semester-I \\n1 20ECM101 Mathematical foundations \\nfor ML \\n4 Probability theory(20MA2101) \\nE3 Semester-II \\n2 20ECM102 Foundations of \\nprogramming for ML \\n4 PDS(20CS1109) \\n3 20ECM103 Machine Learning 4  \\nE4 Semester-I \\n4 20ECM104 Introduction to Deep \\nlearning \\n4  \\nE4 Semester-II \\n5 20ECM1xx ML Elective-1 4  \\nTotal credits 20')]"
      ]
     },
     "execution_count": 54,
     "metadata": {},
     "output_type": "execute_result"
    }
   ],
   "source": [
    "retriever.invoke(\"1st year ece syllabus\")"
   ]
  },
  {
   "cell_type": "code",
   "execution_count": 55,
   "id": "3ab04016-431b-4565-8725-10e3ef164ce8",
   "metadata": {},
   "outputs": [],
   "source": [
    "## using the above data the model will make predictions"
   ]
  },
  {
   "cell_type": "markdown",
   "id": "d0f0f87f-53f5-4624-80e2-4b4076320788",
   "metadata": {},
   "source": [
    "## creating  a model"
   ]
  },
  {
   "cell_type": "code",
   "execution_count": 56,
   "id": "400c92db-4e53-4396-ad5b-70761a528c1b",
   "metadata": {},
   "outputs": [],
   "source": [
    "from langchain_groq import ChatGroq\n",
    "from langchain_core.prompts import ChatPromptTemplate\n",
    "from langchain_core.output_parsers import StrOutputParser"
   ]
  },
  {
   "cell_type": "code",
   "execution_count": 57,
   "id": "21016279-6f5d-4464-9cd4-b1df9cac2781",
   "metadata": {},
   "outputs": [],
   "source": [
    "Groq_api_key=\"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\" # get this api key from groq website"
   ]
  },
  {
   "cell_type": "code",
   "execution_count": 58,
   "id": "0e7e569d-4fc3-45b2-98df-3d7ea84277b8",
   "metadata": {},
   "outputs": [],
   "source": [
    "model=ChatGroq(   # model\n",
    "    temperature=0.4, \n",
    "    groq_api_key=Groq_api_key,\n",
    "    model_name=\"llama-3.3-70b-versatile\",\n",
    "    max_tokens=None)\n"
   ]
  },
  {
   "cell_type": "code",
   "execution_count": 59,
   "id": "f175902f-0f37-4134-a2d2-7ff5fdf10fb7",
   "metadata": {},
   "outputs": [],
   "source": [
    "system_prompt=(\"You are bot specially designed for answering the queries related to ECE department in RGUKT,RK Valley\"\n",
    "               \"You are trained by a ece , R20 student Charan I'D number is R200037\"\n",
    "                \"Use the data obtained from only  the retrieved context and provide the appropraite result\"\n",
    "               \"If you dont know answer to the question say that sorry i dont know \"\n",
    "               \"{context}\"\n",
    "               \n",
    "              ) ## conetxt is autofilled"
   ]
  },
  {
   "cell_type": "code",
   "execution_count": 60,
   "id": "b4d5a4c2-fbb3-4c58-8014-233aa2dad106",
   "metadata": {},
   "outputs": [],
   "source": [
    "template=ChatPromptTemplate.from_messages(\n",
    "    [(\"system\",system_prompt),\n",
    "    (\"human\",\"{input}\"),\n",
    "    (\"ai\",\"\")]\n",
    ")\n"
   ]
  },
  {
   "cell_type": "code",
   "execution_count": 61,
   "id": "c371ec01-9af4-41e4-bde2-a663d260df97",
   "metadata": {},
   "outputs": [],
   "source": [
    "from langchain.chains.combine_documents import create_stuff_documents_chain # This chain takes a list of documents and formats them all into a prompt, then passes that prompt to an LLM. \n",
    "from langchain.chains import create_retrieval_chain\n",
    "\n",
    "question_answer_chain = create_stuff_documents_chain(model, template)\n",
    "rag_chain = create_retrieval_chain(retriever, question_answer_chain) # here 1st chunks are retrived and then it was combined with prompt to get response from llm\n"
   ]
  },
  {
   "cell_type": "code",
   "execution_count": 62,
   "id": "bc77235d-91cf-4872-b306-a9431ce42c72",
   "metadata": {},
   "outputs": [],
   "source": [
    "response=rag_chain.invoke({\"input\":\"who is head  of the department ece\"})"
   ]
  },
  {
   "cell_type": "code",
   "execution_count": 63,
   "id": "4e059a3d-f250-4cbb-8e03-cd26576d6375",
   "metadata": {},
   "outputs": [
    {
     "name": "stdout",
     "output_type": "stream",
     "text": [
      "The Head of the Department (HOD) of Electronics and Communication Engineering (ECE) is Mr. Y Arun Kumar Reddy. He is an Assistant Professor and can be reached at the email addresses hodece@rguktrkv.ac.in or yarunkumarreddy@rguktrkv.ac.in.\n"
     ]
    }
   ],
   "source": [
    "print(response[\"answer\"])"
   ]
  },
  {
   "cell_type": "code",
   "execution_count": 64,
   "id": "8dd30058-6ec0-4c1f-aeb7-e935a39d5f79",
   "metadata": {},
   "outputs": [],
   "source": [
    "response2=rag_chain.invoke({\"input\":\"who is prime minister if india\"})"
   ]
  },
  {
   "cell_type": "code",
   "execution_count": 65,
   "id": "8c8f0012-ff8a-43c1-8d73-82383f400969",
   "metadata": {},
   "outputs": [
    {
     "name": "stdout",
     "output_type": "stream",
     "text": [
      "Sorry, I don't know the current Prime Minister of India as my training data is limited to the context of RGUKT, RK Valley, and I don't have information about the current political leaders of India.\n"
     ]
    }
   ],
   "source": [
    "print(response2[\"answer\"])"
   ]
  },
  {
   "cell_type": "code",
   "execution_count": 66,
   "id": "c91e4fc9-fe6b-42c5-88f2-894497cc3158",
   "metadata": {},
   "outputs": [
    {
     "name": "stdout",
     "output_type": "stream",
     "text": [
      "Here is the list of teaching faculty in the ECE department at RGUKT, RK Valley:\n",
      "\n",
      "1. Mr. Y Arun Kumar Reddy - Assistant Professor (Head of the Department)\n",
      "2. Mr. B. V. Sudhakar Reddy - Assistant Professor\n",
      "3. Dr. SK Mahammad Rafi - Assistant Professor (Coordinator for Alumni)\n",
      "4. Ms. G. Lakshmi Shireesha - Assistant Professor\n",
      "5. Mr. K. Abdul Munaf - Assistant Professor\n",
      "6. Mr. N Mohan Raju - Assistant Professor\n",
      "7. Mrs. M. Anitha - Assistant Professor\n",
      "8. Mr. P Janardhan Reddy - Assistant Professor\n",
      "9. Mr. P. Siva Krishna - Assistant Professor\n",
      "10. Mrs. V Lakshmi Prasanna - Assistant Professor\n",
      "11. Mr. T Naresh - Assistant Professor\n",
      "12. Mr. B Madhan Mohan - Assistant Professor\n",
      "13. Mr. B Mohan Reddy - Assistant Professor\n",
      "14. Mr. R. Pavan kumar - Assistant Professor\n",
      "15. SHAIK RIAZUM - Assistant Professor\n",
      "16. Mr. KRISHNAM HARINATHA REDDY - Assistant Professor\n",
      "17. Mr. SAFARI BHASKAR RAO - Assistant Professor\n",
      "18. S. Venkatesulu - Assistant Professor\n",
      "\n",
      "There are 18 teaching faculty members in the ECE department.\n"
     ]
    }
   ],
   "source": [
    "response3=rag_chain.invoke({\"input\":\"list out the teaching faculty in ece department\"})\n",
    "print(response3[\"answer\"])"
   ]
  },
  {
   "cell_type": "code",
   "execution_count": 67,
   "id": "c96c020c-f277-408b-a11f-516f49daa152",
   "metadata": {},
   "outputs": [
    {
     "name": "stdout",
     "output_type": "stream",
     "text": [
      "Based on the provided data, the non-teaching faculty in the ECE department are:\n",
      "\n",
      "1. Mr. Damodharareddy K - Lab Assistant\n",
      "2. Mr. R Subba Rayudu - Lab Assistant\n",
      "3. Mr. K.N.Koundinya Kumar - Lab Technician\n",
      "4. Mr. Kuruva Venkateswarulu - Lab Technician\n",
      "\n",
      "These individuals are part of the staff members in the ECE department, but they are not listed as faculty members (who are typically involved in teaching and research). Instead, they are involved in supporting roles such as lab assistance and technical support.\n"
     ]
    }
   ],
   "source": [
    "response4=rag_chain.invoke({\"input\":\"list out the non teaching faculty in ece department\"})\n",
    "print(response4[\"answer\"])"
   ]
  },
  {
   "cell_type": "code",
   "execution_count": 68,
   "id": "a572e84c-6eb8-4d5e-b5d1-da85b175ce7e",
   "metadata": {},
   "outputs": [
    {
     "name": "stdout",
     "output_type": "stream",
     "text": [
      "Based on the provided context, the following labs are available in the ECE department:\n",
      "\n",
      "1. Digital Logic Design Laboratory (20ECXX80)\n",
      "2. Electronic Devices and Circuits Lab (20EC1281)\n",
      "3. Computational Lab (20EC1285)\n",
      "4. Object Oriented Programming Laboratory (20CS1289)\n",
      "5. Internet of Things Lab (20EC2185)\n",
      "6. Analog Electronic Circuits Lab (20EC2181)\n",
      "7. Digital Logic Design Lab (20EC2182)\n",
      "8. Digital Signal Processing Lab (20EC2183)\n",
      "\n",
      "Additionally, the staff members listed have the following lab-related roles:\n",
      "\n",
      "1. Mr. Damodharareddy K - Lab Assistant\n",
      "2. Mr. R Subba Rayudu - Lab Assistant\n",
      "3. Mr. K.N.Koundinya Kumar - Lab Technician\n",
      "4. Mr. Kuruva Venkateswarulu - Lab Technician\n",
      "\n",
      "Note that this list may not be exhaustive, as the context only provides a limited amount of information about the ECE department.\n"
     ]
    }
   ],
   "source": [
    "response5=rag_chain.invoke({\"input\":\"list out the labs avliable in ece \"})\n",
    "print(response5[\"answer\"])"
   ]
  },
  {
   "cell_type": "code",
   "execution_count": 69,
   "id": "66677920-1af5-4112-a55e-c5348dadff52",
   "metadata": {},
   "outputs": [
    {
     "name": "stdout",
     "output_type": "stream",
     "text": [
      "According to the provided context, the 1st year 1st sem syllabus of ECE in RGUKT, RK Valley is as follows:\n",
      "\n",
      "1. BSC 20MA1101 - Differential Equations and Multivariable calculus (3-1-0, 4 credits)\n",
      "2. BSC 20PY1101 - Engineering Physics (3-1-0, 4 credits)\n",
      "3. BSC 20PY1181 - Engineering Physics Lab (0-0-3, 1.5 credits)\n",
      "4. PCC 20EC1203 - Signals and Systems (3-1-0, credits not specified)\n",
      "5. ESC 20EE1110 - Electrical Technology (3-1-0, 4 credits)\n",
      "6. ESC 20EE1180 - Electrical Technology Lab (0-0-3, 1.5 credits)\n",
      "7. ESC 20EC1102 - Introduction to Latest Technical Advancements (1-0-0, 1 credit)\n",
      "8. ESC 20CS1108 - Programming & Data Structures (3-0-0, 3 credits)\n",
      "9. ESC 20CS1188 - Programming & Data Structures Lab (0-0-3, 1.5 credits)\n",
      "\n",
      "Total credits: 24.5\n",
      "Total contact hours: 29 hours\n",
      "\n",
      "Note: The credits for the course PCC 20EC1203 - Signals and Systems are not specified in the provided context.\n"
     ]
    }
   ],
   "source": [
    "response6=rag_chain.invoke({\"input\":\"what is the 1st year 1st sem syllabus of ece\"})\n",
    "print(response6[\"answer\"])"
   ]
  },
  {
   "cell_type": "code",
   "execution_count": 70,
   "id": "0ff151cb-8ca2-4cfa-9020-f362a3382c67",
   "metadata": {},
   "outputs": [
    {
     "name": "stdout",
     "output_type": "stream",
     "text": [
      "Dr. SK Mahammad Rafi is an Assistant Professor in the Department of Electronics and Communication Engineering at RGUKT, RK Valley. \n",
      "\n",
      "Here are some details about him:\n",
      "\n",
      "* Education: He has completed his M.Tech from JNTU Hyderabad and Ph.D from IIT Hyderabad.\n",
      "* Email: rafi@rguktrkv.ac.in\n",
      "* Responsibilities: He is the Coordinator for Alumni.\n",
      "\n",
      "You can view his full profile on the RGUKT website for more information.\n"
     ]
    }
   ],
   "source": [
    "response7=rag_chain.invoke({\"input\":\"tell me about mohammad rafi sir\"})\n",
    "print(response7[\"answer\"])"
   ]
  },
  {
   "cell_type": "code",
   "execution_count": 71,
   "id": "5eb3ce55-32bb-4b11-9d72-5f5bd5858f54",
   "metadata": {},
   "outputs": [
    {
     "name": "stdout",
     "output_type": "stream",
     "text": [
      "I was trained by Charan, an ECE student from the R20 batch, with the ID number R200037.\n"
     ]
    }
   ],
   "source": [
    "response8=rag_chain.invoke({\"input\":\"who trained you\"})\n",
    "print(response8[\"answer\"])"
   ]
  },
  {
   "cell_type": "code",
   "execution_count": 72,
   "id": "822a4a97-711e-40d3-9d5f-624a9672d48b",
   "metadata": {},
   "outputs": [],
   "source": []
  },
  {
   "cell_type": "code",
   "execution_count": 80,
   "id": "eb5356ef-fbe6-4995-aa9e-429d91b330dd",
   "metadata": {},
   "outputs": [],
   "source": [
    "from langchain_core.load import dumps  # or dump for file-based serialization\n",
    "\n",
    "# Assuming rag_chain is the model you want to save\n",
    "with open('rag_chain_model2.json', 'w') as f:\n",
    "    f.write(dumps(rag_chain))  # Serialize the model and save it as a JSON file\n"
   ]
  },
  {
   "cell_type": "code",
   "execution_count": null,
   "id": "46af09cd-ee61-4fda-a4bf-e39ef0724fca",
   "metadata": {},
   "outputs": [],
   "source": []
  }
 ],
 "metadata": {
  "kernelspec": {
   "display_name": "Python 3 (ipykernel)",
   "language": "python",
   "name": "python3"
  },
  "language_info": {
   "codemirror_mode": {
    "name": "ipython",
    "version": 3
   },
   "file_extension": ".py",
   "mimetype": "text/x-python",
   "name": "python",
   "nbconvert_exporter": "python",
   "pygments_lexer": "ipython3",
   "version": "3.11.5"
  }
 },
 "nbformat": 4,
 "nbformat_minor": 5
}
